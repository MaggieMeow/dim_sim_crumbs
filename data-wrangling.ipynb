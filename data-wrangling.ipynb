{
 "cells": [
  {
   "cell_type": "code",
   "execution_count": 49,
   "metadata": {},
   "outputs": [],
   "source": [
    "\n",
    "import numpy as np\n",
    "import pandas as pd\n",
    "\n",
    "from tqdm.notebook import tqdm\n",
    "import json\n",
    "import re\n",
    "from collections import defaultdict\n",
    "\n",
    "tqdm.pandas()"
   ]
  },
  {
   "cell_type": "code",
   "execution_count": 31,
   "metadata": {},
   "outputs": [],
   "source": [
    "original_df = pd.read_csv('/Users/magz/Documents/workspace/asia3012/dim-sim-newspaper-full-text-16jan-cleaned.csv')\n",
    "doc_label_df = pd.read_csv('/Users/magz/Documents/workspace/asia3012/doc-topic-label-31jan.csv', index_col=0)\n",
    "\n"
   ]
  },
  {
   "cell_type": "code",
   "execution_count": 56,
   "metadata": {},
   "outputs": [
    {
     "data": {
      "text/html": [
       "<div>\n",
       "<style scoped>\n",
       "    .dataframe tbody tr th:only-of-type {\n",
       "        vertical-align: middle;\n",
       "    }\n",
       "\n",
       "    .dataframe tbody tr th {\n",
       "        vertical-align: top;\n",
       "    }\n",
       "\n",
       "    .dataframe thead th {\n",
       "        text-align: right;\n",
       "    }\n",
       "</style>\n",
       "<table border=\"1\" class=\"dataframe\">\n",
       "  <thead>\n",
       "    <tr style=\"text-align: right;\">\n",
       "      <th></th>\n",
       "      <th>level_0</th>\n",
       "      <th>index</th>\n",
       "      <th>id</th>\n",
       "      <th>Document</th>\n",
       "      <th>Topic</th>\n",
       "      <th>Name</th>\n",
       "      <th>Representation</th>\n",
       "      <th>Representative_Docs</th>\n",
       "      <th>Top_n_words</th>\n",
       "      <th>Probability</th>\n",
       "      <th>...</th>\n",
       "      <th>abstrct</th>\n",
       "      <th>date</th>\n",
       "      <th>authors</th>\n",
       "      <th>year</th>\n",
       "      <th>articleType</th>\n",
       "      <th>newspaper</th>\n",
       "      <th>thumbnailUrl</th>\n",
       "      <th>categories</th>\n",
       "      <th>category_path</th>\n",
       "      <th>categories_string</th>\n",
       "    </tr>\n",
       "  </thead>\n",
       "  <tbody>\n",
       "    <tr>\n",
       "      <th>0</th>\n",
       "      <td>0</td>\n",
       "      <td>0</td>\n",
       "      <td>198674229</td>\n",
       "      <td>The Cafe. Brown, slippered feet that shuffle a...</td>\n",
       "      <td>-1</td>\n",
       "      <td>-1_ctns_time_bgs_betting</td>\n",
       "      <td>['ctns', 'time', 'bgs', 'betting', 'length', '...</td>\n",
       "      <td>[\"CLASSIFIED ADVERTISEMENTS CHEAP AND EFFECTIV...</td>\n",
       "      <td>ctns - time - bgs - betting - length - new - h...</td>\n",
       "      <td>0.000000</td>\n",
       "      <td>...</td>\n",
       "      <td>Brown, slippered feet that shuffle as they go,...</td>\n",
       "      <td>Sunday 18 January 1925</td>\n",
       "      <td>[]</td>\n",
       "      <td>1925</td>\n",
       "      <td>Article</td>\n",
       "      <td>Truth (Brisbane, Qld. : 1900 - 1954)</td>\n",
       "      <td>https://nla.gov.au/nla.news-page21886721-t</td>\n",
       "      <td>[Non-Food, Other]</td>\n",
       "      <td>(Non-Food, Other)</td>\n",
       "      <td>Non-Food, Other</td>\n",
       "    </tr>\n",
       "    <tr>\n",
       "      <th>1</th>\n",
       "      <td>1</td>\n",
       "      <td>1</td>\n",
       "      <td>155809269</td>\n",
       "      <td>Illegal Sale of Liquor. CHINESE FINED £30. Hen...</td>\n",
       "      <td>0</td>\n",
       "      <td>0_yesterday_town_hall_members</td>\n",
       "      <td>['yesterday', 'town', 'hall', 'members', 'stal...</td>\n",
       "      <td>['AIRMEN AND NURSES IN MARCH THROUGH CITY Crow...</td>\n",
       "      <td>yesterday - town - hall - members - stall - ye...</td>\n",
       "      <td>1.000000</td>\n",
       "      <td>...</td>\n",
       "      <td>Henry Chung was charged at the City Court yest...</td>\n",
       "      <td>Thursday 23 July 1925</td>\n",
       "      <td>[]</td>\n",
       "      <td>1925</td>\n",
       "      <td>Article</td>\n",
       "      <td>The Age (Melbourne, Vic. : 1854 - 1954)</td>\n",
       "      <td>https://nla.gov.au/nla.news-page18724649-t</td>\n",
       "      <td>[Non-Food, Community Events, Other]</td>\n",
       "      <td>(Non-Food, Community Events, Other)</td>\n",
       "      <td>Non-Food, Community Events, Other</td>\n",
       "    </tr>\n",
       "    <tr>\n",
       "      <th>2</th>\n",
       "      <td>2</td>\n",
       "      <td>2</td>\n",
       "      <td>179237541</td>\n",
       "      <td>Chinatown in Mourning Death of Masonic Leader ...</td>\n",
       "      <td>16</td>\n",
       "      <td>16_tho_coffin_masonic_street</td>\n",
       "      <td>['tho', 'coffin', 'masonic', 'street', 'mourni...</td>\n",
       "      <td>['Melbourne\\'s Disappearing Chinatown By... Ge...</td>\n",
       "      <td>tho - coffin - masonic - street - mourning - r...</td>\n",
       "      <td>0.979514</td>\n",
       "      <td>...</td>\n",
       "      <td>Chinatown is in mourning for its leading Chine...</td>\n",
       "      <td>Thursday 16 December 1926</td>\n",
       "      <td>[]</td>\n",
       "      <td>1926</td>\n",
       "      <td>Article</td>\n",
       "      <td>The Telegraph (Brisbane, Qld. : 1872 - 1947)</td>\n",
       "      <td>https://nla.gov.au/nla.news-page19295931-t</td>\n",
       "      <td>[Non-Food, Community Events, Funeral for Chine...</td>\n",
       "      <td>(Non-Food, Community Events, Funeral for Chine...</td>\n",
       "      <td>Non-Food, Community Events, Funeral for Chines...</td>\n",
       "    </tr>\n",
       "    <tr>\n",
       "      <th>3</th>\n",
       "      <td>3</td>\n",
       "      <td>3</td>\n",
       "      <td>175704309</td>\n",
       "      <td>CHINATOWN IN MOURNING. \" DEATH OP MASONIC EE A...</td>\n",
       "      <td>16</td>\n",
       "      <td>16_tho_coffin_masonic_street</td>\n",
       "      <td>['tho', 'coffin', 'masonic', 'street', 'mourni...</td>\n",
       "      <td>['Melbourne\\'s Disappearing Chinatown By... Ge...</td>\n",
       "      <td>tho - coffin - masonic - street - mourning - r...</td>\n",
       "      <td>1.000000</td>\n",
       "      <td>...</td>\n",
       "      <td>Chinatown is mourning for its leading Chinese ...</td>\n",
       "      <td>Saturday 8 January 1927</td>\n",
       "      <td>[]</td>\n",
       "      <td>1927</td>\n",
       "      <td>Article</td>\n",
       "      <td>Warwick Daily News (Qld. : 1919 -1954)</td>\n",
       "      <td>https://nla.gov.au/nla.news-page20643930-t</td>\n",
       "      <td>[Non-Food, Community Events, Funeral for Chine...</td>\n",
       "      <td>(Non-Food, Community Events, Funeral for Chine...</td>\n",
       "      <td>Non-Food, Community Events, Funeral for Chines...</td>\n",
       "    </tr>\n",
       "    <tr>\n",
       "      <th>4</th>\n",
       "      <td>4</td>\n",
       "      <td>4</td>\n",
       "      <td>182359378</td>\n",
       "      <td>CREMORNE THEATRE. \"A Maid of tho South\" is a d...</td>\n",
       "      <td>5</td>\n",
       "      <td>5_theatre_troupe_delightful_programme</td>\n",
       "      <td>['theatre', 'troupe', 'delightful', 'programme...</td>\n",
       "      <td>[\"BRIGHT SCENES MAXIMS AT CREMORNE JESTS AND J...</td>\n",
       "      <td>theatre - troupe - delightful - programme - sk...</td>\n",
       "      <td>0.768257</td>\n",
       "      <td>...</td>\n",
       "      <td>\"A Maid of the South\" is a delightful musical ...</td>\n",
       "      <td>Tuesday 21 August 1928</td>\n",
       "      <td>[]</td>\n",
       "      <td>1928</td>\n",
       "      <td>Article</td>\n",
       "      <td>The Telegraph (Brisbane, Qld. : 1872 - 1947)</td>\n",
       "      <td>https://nla.gov.au/nla.news-page19879533-t</td>\n",
       "      <td>[Non-Food, Theatre &amp; Entertainment]</td>\n",
       "      <td>(Non-Food, Theatre &amp; Entertainment)</td>\n",
       "      <td>Non-Food, Theatre &amp; Entertainment</td>\n",
       "    </tr>\n",
       "  </tbody>\n",
       "</table>\n",
       "<p>5 rows × 22 columns</p>\n",
       "</div>"
      ],
      "text/plain": [
       "   level_0  index         id  \\\n",
       "0        0      0  198674229   \n",
       "1        1      1  155809269   \n",
       "2        2      2  179237541   \n",
       "3        3      3  175704309   \n",
       "4        4      4  182359378   \n",
       "\n",
       "                                            Document  Topic  \\\n",
       "0  The Cafe. Brown, slippered feet that shuffle a...     -1   \n",
       "1  Illegal Sale of Liquor. CHINESE FINED £30. Hen...      0   \n",
       "2  Chinatown in Mourning Death of Masonic Leader ...     16   \n",
       "3  CHINATOWN IN MOURNING. \" DEATH OP MASONIC EE A...     16   \n",
       "4  CREMORNE THEATRE. \"A Maid of tho South\" is a d...      5   \n",
       "\n",
       "                                    Name  \\\n",
       "0               -1_ctns_time_bgs_betting   \n",
       "1          0_yesterday_town_hall_members   \n",
       "2           16_tho_coffin_masonic_street   \n",
       "3           16_tho_coffin_masonic_street   \n",
       "4  5_theatre_troupe_delightful_programme   \n",
       "\n",
       "                                      Representation  \\\n",
       "0  ['ctns', 'time', 'bgs', 'betting', 'length', '...   \n",
       "1  ['yesterday', 'town', 'hall', 'members', 'stal...   \n",
       "2  ['tho', 'coffin', 'masonic', 'street', 'mourni...   \n",
       "3  ['tho', 'coffin', 'masonic', 'street', 'mourni...   \n",
       "4  ['theatre', 'troupe', 'delightful', 'programme...   \n",
       "\n",
       "                                 Representative_Docs  \\\n",
       "0  [\"CLASSIFIED ADVERTISEMENTS CHEAP AND EFFECTIV...   \n",
       "1  ['AIRMEN AND NURSES IN MARCH THROUGH CITY Crow...   \n",
       "2  ['Melbourne\\'s Disappearing Chinatown By... Ge...   \n",
       "3  ['Melbourne\\'s Disappearing Chinatown By... Ge...   \n",
       "4  [\"BRIGHT SCENES MAXIMS AT CREMORNE JESTS AND J...   \n",
       "\n",
       "                                         Top_n_words  Probability  ...  \\\n",
       "0  ctns - time - bgs - betting - length - new - h...     0.000000  ...   \n",
       "1  yesterday - town - hall - members - stall - ye...     1.000000  ...   \n",
       "2  tho - coffin - masonic - street - mourning - r...     0.979514  ...   \n",
       "3  tho - coffin - masonic - street - mourning - r...     1.000000  ...   \n",
       "4  theatre - troupe - delightful - programme - sk...     0.768257  ...   \n",
       "\n",
       "                                             abstrct  \\\n",
       "0  Brown, slippered feet that shuffle as they go,...   \n",
       "1  Henry Chung was charged at the City Court yest...   \n",
       "2  Chinatown is in mourning for its leading Chine...   \n",
       "3  Chinatown is mourning for its leading Chinese ...   \n",
       "4  \"A Maid of the South\" is a delightful musical ...   \n",
       "\n",
       "                        date authors  year articleType  \\\n",
       "0     Sunday 18 January 1925      []  1925     Article   \n",
       "1      Thursday 23 July 1925      []  1925     Article   \n",
       "2  Thursday 16 December 1926      []  1926     Article   \n",
       "3    Saturday 8 January 1927      []  1927     Article   \n",
       "4     Tuesday 21 August 1928      []  1928     Article   \n",
       "\n",
       "                                      newspaper  \\\n",
       "0          Truth (Brisbane, Qld. : 1900 - 1954)   \n",
       "1       The Age (Melbourne, Vic. : 1854 - 1954)   \n",
       "2  The Telegraph (Brisbane, Qld. : 1872 - 1947)   \n",
       "3        Warwick Daily News (Qld. : 1919 -1954)   \n",
       "4  The Telegraph (Brisbane, Qld. : 1872 - 1947)   \n",
       "\n",
       "                                 thumbnailUrl  \\\n",
       "0  https://nla.gov.au/nla.news-page21886721-t   \n",
       "1  https://nla.gov.au/nla.news-page18724649-t   \n",
       "2  https://nla.gov.au/nla.news-page19295931-t   \n",
       "3  https://nla.gov.au/nla.news-page20643930-t   \n",
       "4  https://nla.gov.au/nla.news-page19879533-t   \n",
       "\n",
       "                                          categories  \\\n",
       "0                                  [Non-Food, Other]   \n",
       "1                [Non-Food, Community Events, Other]   \n",
       "2  [Non-Food, Community Events, Funeral for Chine...   \n",
       "3  [Non-Food, Community Events, Funeral for Chine...   \n",
       "4                [Non-Food, Theatre & Entertainment]   \n",
       "\n",
       "                                       category_path  \\\n",
       "0                                  (Non-Food, Other)   \n",
       "1                (Non-Food, Community Events, Other)   \n",
       "2  (Non-Food, Community Events, Funeral for Chine...   \n",
       "3  (Non-Food, Community Events, Funeral for Chine...   \n",
       "4                (Non-Food, Theatre & Entertainment)   \n",
       "\n",
       "                                   categories_string  \n",
       "0                                    Non-Food, Other  \n",
       "1                  Non-Food, Community Events, Other  \n",
       "2  Non-Food, Community Events, Funeral for Chines...  \n",
       "3  Non-Food, Community Events, Funeral for Chines...  \n",
       "4                  Non-Food, Theatre & Entertainment  \n",
       "\n",
       "[5 rows x 22 columns]"
      ]
     },
     "execution_count": 56,
     "metadata": {},
     "output_type": "execute_result"
    }
   ],
   "source": [
    "doc_label_df.head()"
   ]
  },
  {
   "cell_type": "code",
   "execution_count": 32,
   "metadata": {},
   "outputs": [],
   "source": [
    "#doc_label_df = pd.concat([doc_label_df, original_df[['articleType', 'newspaper','thumbnailUrl']]], axis=1)\n",
    "doc_label_df = pd.concat([doc_label_df, original_df[['id','title','abstrct','date','authors','year', 'articleType', 'newspaper','thumbnailUrl']]], axis=1)\n"
   ]
  },
  {
   "cell_type": "code",
   "execution_count": 6,
   "metadata": {},
   "outputs": [],
   "source": [
    "from bertopic import BERTopic\n",
    "from umap import UMAP\n",
    "from sentence_transformers import SentenceTransformer\n",
    "from sentence_transformers.util import cos_sim\n",
    "from bertopic.vectorizers import ClassTfidfTransformer\n",
    "from sklearn.feature_extraction.text import CountVectorizer\n",
    "from hdbscan import HDBSCAN\n",
    "from bertopic.representation import KeyBERTInspired, MaximalMarginalRelevance, OpenAI, PartOfSpeech\n",
    "import ast\n",
    "from scipy.cluster import hierarchy as sch"
   ]
  },
  {
   "cell_type": "code",
   "execution_count": 11,
   "metadata": {},
   "outputs": [],
   "source": [
    "bertopic_df = pd.read_csv('/Users/magz/Documents/workspace/asia3012/embedded_data_jan_20.csv',index_col=0)\n",
    "bertopic_df['embedding'] = bertopic_df['embedding'].apply(ast.literal_eval).apply(lambda x: np.array(x, dtype=np.float32))\n",
    "embedding = np.array(bertopic_df['embedding'].to_list(), dtype=np.float32)"
   ]
  },
  {
   "cell_type": "code",
   "execution_count": 12,
   "metadata": {},
   "outputs": [
    {
     "name": "stderr",
     "output_type": "stream",
     "text": [
      "2024-05-13 00:01:04,503 - BERTopic - Dimensionality - Fitting the dimensionality reduction algorithm\n",
      "2024-05-13 00:01:09,970 - BERTopic - Dimensionality - Completed ✓\n",
      "2024-05-13 00:01:09,971 - BERTopic - Cluster - Start clustering the reduced embeddings\n",
      "2024-05-13 00:01:09,991 - BERTopic - Cluster - Completed ✓\n",
      "2024-05-13 00:01:09,992 - BERTopic - Representation - Extracting topics from clusters using representation models.\n",
      "2024-05-13 00:02:12,210 - BERTopic - Representation - Completed ✓\n",
      "2024-05-13 00:02:12,212 - BERTopic - Topic reduction - Reducing number of topics\n",
      "2024-05-13 00:02:54,400 - BERTopic - Topic reduction - Reduced number of topics from 34 to 19\n"
     ]
    },
    {
     "name": "stdout",
     "output_type": "stream",
     "text": [
      "    Topic  Count                                   Name  \\\n",
      "0      -1    204               -1_ctns_time_bgs_betting   \n",
      "1       0    159          0_yesterday_town_hall_members   \n",
      "2       1     87                 1_start_2nd_second_ond   \n",
      "3       2     82      2_restaurant_dishes_sauce_chicken   \n",
      "4       3     33                 3_water_salt_oil_sauce   \n",
      "5       4     22                 4_bitch_dog_puppy_best   \n",
      "6       5     21  5_theatre_troupe_delightful_programme   \n",
      "7       6     17             6_fat_foods_alcohol_energy   \n",
      "8       7     16     7_trinder_cocktails_farewell_party   \n",
      "9       8     13          8_frozen_foods_market_porkers   \n",
      "10      9     13          9_middle_crushed_tahina_lemon   \n",
      "11     10     13            10_fish_takeaway_chips_shop   \n",
      "12     11     13           11_know_answers_snake_answer   \n",
      "13     12     13          12_music_news_session_weather   \n",
      "14     13     11    13_war_communists_communism_foreign   \n",
      "15     14     11                    14_dim_sims_sim_cab   \n",
      "16     15     10             15_autumn_party_club_await   \n",
      "17     16      8           16_tho_coffin_masonic_street   \n",
      "18     17      8          17_tickets_licensed_wine_site   \n",
      "\n",
      "                                       Representation  \\\n",
      "0   [ctns, time, bgs, betting, length, new, help, ...   \n",
      "1   [yesterday, town, hall, members, stall, year, ...   \n",
      "2   [start, 2nd, second, ond, race, res, form, win...   \n",
      "3   [restaurant, dishes, sauce, chicken, satay, so...   \n",
      "4   [water, salt, oil, sauce, teaspoon, minutes, f...   \n",
      "5   [bitch, dog, puppy, best, open, junior, exhibi...   \n",
      "6   [theatre, troupe, delightful, programme, sketc...   \n",
      "7   [fat, foods, alcohol, energy, weight, diet, fo...   \n",
      "8   [trinder, cocktails, farewell, party, point, h...   \n",
      "9   [frozen, foods, market, porkers, calves, deman...   \n",
      "10  [middle, crushed, tahina, lemon, dips, restaur...   \n",
      "11  [fish, takeaway, chips, shop, customers, oasis...   \n",
      "12  [know, answers, snake, answer, wedding, battle...   \n",
      "13  [music, news, session, weather, talk, dance, s...   \n",
      "14  [war, communists, communism, foreign, policy, ...   \n",
      "15  [dim, sims, sim, cab, face, suey, pie, delicac...   \n",
      "16  [autumn, party, club, await, ally, lovely, mot...   \n",
      "17  [tho, coffin, masonic, street, mourning, rites...   \n",
      "18  [tickets, licensed, wine, site, dinner, noon, ...   \n",
      "\n",
      "                                  Representative_Docs  \n",
      "0   [CLASSIFIED ADVERTISEMENTS CHEAP AND EFFECTIVE...  \n",
      "1   [AIRMEN AND NURSES IN MARCH THROUGH CITY Crowd...  \n",
      "2   [arold Park trots tonight 1. Auburn Hep 2350m ...  \n",
      "3   [none Help JAY'S OUT none Help Eastern out eas...  \n",
      "4   [SOME SAVORY DISHES (KEEP'S Liver (as the Fren...  \n",
      "5   [AUSTRALIAN LADIES' KENNEL' CLUB Successful Pa...  \n",
      "6   [BRIGHT SCENES MAXIMS AT CREMORNE JESTS AND JI...  \n",
      "7   [Feed your fitness regime A balanced diet is i...  \n",
      "8   [Cm 4r ffk iff /ff 8S jffjMM Jffff ffjjff Mm ....  \n",
      "9   [MELBOURNE PIG MARKET SEPTEMBER 30 — OCTOBER 1...  \n",
      "10  [DINING & WINING JAY'S OUT none Help none Help...  \n",
      "11  [Meals cooked to perfection Port Lincoln's Mor...  \n",
      "12  [NOW YOU KNOW | (Solution from page 6) - g 2— ...  \n",
      "13  [Sunday 5CL and 5CK. — 10— Special service fro...  \n",
      "14  [.iljWlIIlB^^^^M [?] Something is being cooked...  \n",
      "15  [Taxi man took dim view of a dim sim That smal...  \n",
      "16  [[?] «wmay<wwwwcP9wwgMewewwM8fiagwwwwwww99w« <...  \n",
      "17  [Melbourne's Disappearing Chinatown By... Geor...  \n",
      "18  [Canberra Festival 87 ENational Food & Wine Fr...  \n"
     ]
    }
   ],
   "source": [
    "umap_model = UMAP(n_neighbors=20, n_components=5, min_dist=0.0, metric='cosine', random_state=50)\n",
    "\n",
    "# Step 3 - Cluster reduced embeddings\n",
    "hdbscan_model = HDBSCAN(min_cluster_size=7, metric='euclidean', cluster_selection_method='eom', prediction_data=True)\n",
    "vectorizer_model = CountVectorizer(stop_words=\"english\", token_pattern='[a-zA-Z0-9]{3,}')\n",
    "ctfidf_model = ClassTfidfTransformer(reduce_frequent_words=True)\n",
    "pos_model = PartOfSpeech(\"en_core_web_sm\")\n",
    "\n",
    "topic_model = BERTopic(n_gram_range=(1, 1), verbose=True, nr_topics='auto',\n",
    "                       top_n_words=15,\n",
    "                       umap_model=umap_model,\n",
    "                       hdbscan_model=hdbscan_model,\n",
    "                       vectorizer_model=vectorizer_model,\n",
    "                       ctfidf_model=ctfidf_model,\n",
    "                       representation_model = pos_model,\n",
    "                       )\n",
    "\n",
    "topics, probs = topic_model.fit_transform(bertopic_df['cleanedTextBert'], embeddings=embedding)\n",
    "print(topic_model.get_topic_info())"
   ]
  },
  {
   "cell_type": "code",
   "execution_count": 13,
   "metadata": {},
   "outputs": [
    {
     "name": "stderr",
     "output_type": "stream",
     "text": [
      "100%|██████████| 17/17 [01:17<00:00,  4.54s/it]"
     ]
    },
    {
     "name": "stdout",
     "output_type": "stream",
     "text": [
      "   Parent_ID                        Parent_Name  \\\n",
      "16        34   yesterday_town_hall_members_year   \n",
      "15        33   yesterday_town_hall_members_year   \n",
      "14        32    yesterday_hall_members_year_day   \n",
      "13        31    yesterday_hall_members_year_day   \n",
      "12        30   yesterday_town_hall_members_year   \n",
      "11        29    yesterday_hall_members_year_day   \n",
      "10        28         town_members_year_day_work   \n",
      "9         27   yesterday_town_hall_members_year   \n",
      "8         26              year_day_work_men_dim   \n",
      "7         25  yesterday_town_hall_members_stall   \n",
      "6         24         town_members_year_day_work   \n",
      "5         23          members_year_day_work_men   \n",
      "4         22    yesterday_town_members_year_day   \n",
      "3         21            town_hall_year_day_work   \n",
      "2         20  yesterday_town_hall_members_stall   \n",
      "1         19          members_year_day_work_dim   \n",
      "0         18           town_stall_year_day_work   \n",
      "\n",
      "                                               Topics Child_Left_ID  \\\n",
      "16  [0, 1, 2, 3, 4, 5, 6, 7, 8, 9, 10, 11, 12, 13,...            28   \n",
      "15            [0, 1, 4, 5, 7, 11, 12, 13, 14, 15, 16]            30   \n",
      "14                               [1, 4, 5, 7, 12, 15]            22   \n",
      "13                                      [1, 4, 5, 12]            29   \n",
      "12                                [0, 11, 13, 14, 16]            14   \n",
      "11                                         [1, 4, 12]             4   \n",
      "10                            [2, 3, 6, 8, 9, 10, 17]             8   \n",
      "9                                     [0, 11, 13, 16]            25   \n",
      "8                                             [1, 12]             1   \n",
      "7                                         [0, 11, 13]            11   \n",
      "6                                [2, 3, 6, 9, 10, 17]            21   \n",
      "5                                        [2, 3, 6, 9]            19   \n",
      "4                                             [7, 15]            15   \n",
      "3                                            [10, 17]            17   \n",
      "2                                             [0, 13]             0   \n",
      "1                                              [3, 6]             6   \n",
      "0                                              [2, 9]             2   \n",
      "\n",
      "                          Child_Left_Name Child_Right_ID  \\\n",
      "16             town_members_year_day_work             33   \n",
      "15       yesterday_town_hall_members_year             32   \n",
      "14        yesterday_town_members_year_day             31   \n",
      "13        yesterday_hall_members_year_day              5   \n",
      "12                  dim_sims_sim_cab_face             27   \n",
      "11              bitch_dog_puppy_best_open             26   \n",
      "10     frozen_foods_market_porkers_calves             24   \n",
      "9       yesterday_town_hall_members_stall             16   \n",
      "8               start_2nd_second_ond_race             12   \n",
      "7       know_answers_snake_answer_wedding             20   \n",
      "6                 town_hall_year_day_work             23   \n",
      "5               members_year_day_work_dim             18   \n",
      "4            autumn_party_club_await_ally              7   \n",
      "3       tickets_licensed_wine_site_dinner             10   \n",
      "2       yesterday_town_hall_members_stall             13   \n",
      "1         fat_foods_alcohol_energy_weight              3   \n",
      "0   restaurant_dishes_sauce_chicken_satay              9   \n",
      "\n",
      "                                Child_Right_Name  Distance  \n",
      "16              yesterday_town_hall_members_year  1.215712  \n",
      "15               yesterday_hall_members_year_day  0.996366  \n",
      "14               yesterday_hall_members_year_day  0.954419  \n",
      "13  theatre_troupe_delightful_programme_sketches  0.935498  \n",
      "12              yesterday_town_hall_members_year  0.903283  \n",
      "11                         year_day_work_men_dim  0.894185  \n",
      "10                    town_members_year_day_work  0.888387  \n",
      "9             tho_coffin_masonic_street_mourning  0.867009  \n",
      "8                music_news_session_weather_talk  0.857771  \n",
      "7              yesterday_town_hall_members_stall  0.826649  \n",
      "6                      members_year_day_work_men  0.825933  \n",
      "5                       town_stall_year_day_work  0.800826  \n",
      "4         trinder_cocktails_farewell_party_point  0.793619  \n",
      "3             fish_takeaway_chips_shop_customers  0.751100  \n",
      "2        war_communists_communism_foreign_policy  0.722063  \n",
      "1                  water_salt_oil_sauce_teaspoon  0.689277  \n",
      "0               middle_crushed_tahina_lemon_dips  0.574815  \n"
     ]
    },
    {
     "name": "stderr",
     "output_type": "stream",
     "text": [
      "\n"
     ]
    }
   ],
   "source": [
    "hierarchical_topics = topic_model.hierarchical_topics(bertopic_df['cleanedTextBert'])\n",
    "print(hierarchical_topics)"
   ]
  },
  {
   "cell_type": "code",
   "execution_count": 14,
   "metadata": {},
   "outputs": [
    {
     "data": {
      "application/vnd.plotly.v1+json": {
       "config": {
        "plotlyServerURL": "https://plot.ly"
       },
       "data": [
        {
         "hoverinfo": "text",
         "marker": {
          "color": "rgb(61,153,112)"
         },
         "mode": "lines",
         "text": [
          "tickets_licensed_wine_site_dinner",
          "",
          "",
          "fish_takeaway_chips_shop_customers"
         ],
         "type": "scatter",
         "x": [
          0,
          0.7511001933337524,
          0.7511001933337524,
          0
         ],
         "xaxis": "x",
         "y": [
          -15,
          -15,
          -25,
          -25
         ],
         "yaxis": "y"
        },
        {
         "hoverinfo": "text",
         "marker": {
          "color": "rgb(61,153,112)"
         },
         "mode": "lines",
         "text": [
          "fat_foods_alcohol_energy_weight",
          "",
          "",
          "water_salt_oil_sauce_teaspoon"
         ],
         "type": "scatter",
         "x": [
          0,
          0.6892770464142643,
          0.6892770464142643,
          0
         ],
         "xaxis": "x",
         "y": [
          -35,
          -35,
          -45,
          -45
         ],
         "yaxis": "y"
        },
        {
         "hoverinfo": "text",
         "marker": {
          "color": "rgb(61,153,112)"
         },
         "mode": "lines",
         "text": [
          "restaurant_dishes_sauce_chicken_satay",
          "",
          "",
          "middle_crushed_tahina_lemon_dips"
         ],
         "type": "scatter",
         "x": [
          0,
          0.5748145687951174,
          0.5748145687951174,
          0
         ],
         "xaxis": "x",
         "y": [
          -55,
          -55,
          -65,
          -65
         ],
         "yaxis": "y"
        },
        {
         "hoverinfo": "text",
         "marker": {
          "color": "rgb(61,153,112)"
         },
         "mode": "lines",
         "text": [
          "members_year_day_work_dim",
          "",
          "",
          "town_stall_year_day_work"
         ],
         "type": "scatter",
         "x": [
          0.6892770464142643,
          0.8008261764613614,
          0.8008261764613614,
          0.5748145687951174
         ],
         "xaxis": "x",
         "y": [
          -40,
          -40,
          -60,
          -60
         ],
         "yaxis": "y"
        },
        {
         "hoverinfo": "text",
         "marker": {
          "color": "rgb(61,153,112)"
         },
         "mode": "lines",
         "text": [
          "town_hall_year_day_work",
          "",
          "",
          "members_year_day_work_men"
         ],
         "type": "scatter",
         "x": [
          0.7511001933337524,
          0.8259330443230478,
          0.8259330443230478,
          0.8008261764613614
         ],
         "xaxis": "x",
         "y": [
          -20,
          -20,
          -50,
          -50
         ],
         "yaxis": "y"
        },
        {
         "hoverinfo": "text",
         "marker": {
          "color": "rgb(61,153,112)"
         },
         "mode": "lines",
         "text": [
          "frozen_foods_market_porkers_calves",
          "",
          "",
          "town_members_year_day_work"
         ],
         "type": "scatter",
         "x": [
          0,
          0.8883873582316428,
          0.8883873582316428,
          0.8259330443230478
         ],
         "xaxis": "x",
         "y": [
          -5,
          -5,
          -35,
          -35
         ],
         "yaxis": "y"
        },
        {
         "hoverinfo": "text",
         "marker": {
          "color": "rgb(255,65,54)"
         },
         "mode": "lines",
         "text": [
          "yesterday_town_hall_members_stall",
          "",
          "",
          "war_communists_communism_foreign_policy"
         ],
         "type": "scatter",
         "x": [
          0,
          0.7220626589421661,
          0.7220626589421661,
          0
         ],
         "xaxis": "x",
         "y": [
          -95,
          -95,
          -105,
          -105
         ],
         "yaxis": "y"
        },
        {
         "hoverinfo": "text",
         "marker": {
          "color": "rgb(255,65,54)"
         },
         "mode": "lines",
         "text": [
          "know_answers_snake_answer_wedding",
          "",
          "",
          "yesterday_town_hall_members_stall"
         ],
         "type": "scatter",
         "x": [
          0,
          0.8266485917306692,
          0.8266485917306692,
          0.7220626589421661
         ],
         "xaxis": "x",
         "y": [
          -85,
          -85,
          -100,
          -100
         ],
         "yaxis": "y"
        },
        {
         "hoverinfo": "text",
         "marker": {
          "color": "rgb(255,65,54)"
         },
         "mode": "lines",
         "text": [
          "yesterday_town_hall_members_stall",
          "",
          "",
          "tho_coffin_masonic_street_mourning"
         ],
         "type": "scatter",
         "x": [
          0.8266485917306692,
          0.867009005186988,
          0.867009005186988,
          0
         ],
         "xaxis": "x",
         "y": [
          -92.5,
          -92.5,
          -115,
          -115
         ],
         "yaxis": "y"
        },
        {
         "hoverinfo": "text",
         "marker": {
          "color": "rgb(255,65,54)"
         },
         "mode": "lines",
         "text": [
          "dim_sims_sim_cab_face",
          "",
          "",
          "yesterday_town_hall_members_year"
         ],
         "type": "scatter",
         "x": [
          0,
          0.9032827625388457,
          0.9032827625388457,
          0.867009005186988
         ],
         "xaxis": "x",
         "y": [
          -75,
          -75,
          -103.75,
          -103.75
         ],
         "yaxis": "y"
        },
        {
         "hoverinfo": "text",
         "marker": {
          "color": "rgb(255,65,54)"
         },
         "mode": "lines",
         "text": [
          "autumn_party_club_await_ally",
          "",
          "",
          "trinder_cocktails_farewell_party_point"
         ],
         "type": "scatter",
         "x": [
          0,
          0.7936189249288054,
          0.7936189249288054,
          0
         ],
         "xaxis": "x",
         "y": [
          -125,
          -125,
          -135,
          -135
         ],
         "yaxis": "y"
        },
        {
         "hoverinfo": "text",
         "marker": {
          "color": "rgb(255,65,54)"
         },
         "mode": "lines",
         "text": [
          "start_2nd_second_ond_race",
          "",
          "",
          "music_news_session_weather_talk"
         ],
         "type": "scatter",
         "x": [
          0,
          0.8577705814724005,
          0.8577705814724005,
          0
         ],
         "xaxis": "x",
         "y": [
          -155,
          -155,
          -165,
          -165
         ],
         "yaxis": "y"
        },
        {
         "hoverinfo": "text",
         "marker": {
          "color": "rgb(255,65,54)"
         },
         "mode": "lines",
         "text": [
          "bitch_dog_puppy_best_open",
          "",
          "",
          "year_day_work_men_dim"
         ],
         "type": "scatter",
         "x": [
          0,
          0.8941848977166617,
          0.8941848977166617,
          0.8577705814724005
         ],
         "xaxis": "x",
         "y": [
          -145,
          -145,
          -160,
          -160
         ],
         "yaxis": "y"
        },
        {
         "hoverinfo": "text",
         "marker": {
          "color": "rgb(255,65,54)"
         },
         "mode": "lines",
         "text": [
          "yesterday_hall_members_year_day",
          "",
          "",
          "theatre_troupe_delightful_programme_sketches"
         ],
         "type": "scatter",
         "x": [
          0.8941848977166617,
          0.9354975109460001,
          0.9354975109460001,
          0
         ],
         "xaxis": "x",
         "y": [
          -152.5,
          -152.5,
          -175,
          -175
         ],
         "yaxis": "y"
        },
        {
         "hoverinfo": "text",
         "marker": {
          "color": "rgb(255,65,54)"
         },
         "mode": "lines",
         "text": [
          "yesterday_town_members_year_day",
          "",
          "",
          "yesterday_hall_members_year_day"
         ],
         "type": "scatter",
         "x": [
          0.7936189249288054,
          0.9544190889705322,
          0.9544190889705322,
          0.9354975109460001
         ],
         "xaxis": "x",
         "y": [
          -130,
          -130,
          -163.75,
          -163.75
         ],
         "yaxis": "y"
        },
        {
         "hoverinfo": "text",
         "marker": {
          "color": "rgb(255,65,54)"
         },
         "mode": "lines",
         "text": [
          "yesterday_town_hall_members_year",
          "",
          "",
          "yesterday_hall_members_year_day"
         ],
         "type": "scatter",
         "x": [
          0.9032827625388457,
          0.9963657090210876,
          0.9963657090210876,
          0.9544190889705322
         ],
         "xaxis": "x",
         "y": [
          -89.375,
          -89.375,
          -146.875,
          -146.875
         ],
         "yaxis": "y"
        },
        {
         "hoverinfo": "text",
         "marker": {
          "color": "rgb(0,116,217)"
         },
         "mode": "lines",
         "text": [
          "town_members_year_day_work",
          "",
          "",
          "yesterday_town_hall_members_year"
         ],
         "type": "scatter",
         "x": [
          0.8883873582316428,
          1.2157124157679684,
          1.2157124157679684,
          0.9963657090210876
         ],
         "xaxis": "x",
         "y": [
          -20,
          -20,
          -118.125,
          -118.125
         ],
         "yaxis": "y"
        },
        {
         "hoverinfo": "text",
         "hovertext": [
          "members_year_day_work_dim",
          "town_hall_year_day_work",
          "yesterday_town_hall_members_stall",
          "yesterday_hall_members_year_day",
          "yesterday_town_members_year_day",
          "yesterday_town_hall_members_year",
          "town_members_year_day_work"
         ],
         "marker": {
          "color": "black"
         },
         "mode": "markers",
         "showlegend": false,
         "type": "scatter",
         "x": [
          0.6892770464142643,
          0.7511001933337524,
          0.8266485917306692,
          0.8941848977166617,
          0.7936189249288054,
          0.9032827625388457,
          0.8883873582316428
         ],
         "y": [
          -40,
          -20,
          -92.5,
          -152.5,
          -130,
          -89.375,
          -20
         ]
        },
        {
         "hoverinfo": "text",
         "hovertext": [
          "town_stall_year_day_work",
          "members_year_day_work_men",
          "town_members_year_day_work",
          "yesterday_town_hall_members_stall",
          "yesterday_town_hall_members_year",
          "year_day_work_men_dim",
          "yesterday_hall_members_year_day",
          "yesterday_hall_members_year_day",
          "yesterday_town_hall_members_year"
         ],
         "marker": {
          "color": "black"
         },
         "mode": "markers",
         "showlegend": false,
         "type": "scatter",
         "x": [
          0.5748145687951174,
          0.8008261764613614,
          0.8259330443230478,
          0.7220626589421661,
          0.867009005186988,
          0.8577705814724005,
          0.9354975109460001,
          0.9544190889705322,
          0.9963657090210876
         ],
         "y": [
          -60,
          -50,
          -35,
          -100,
          -103.75,
          -160,
          -163.75,
          -146.875,
          -118.125
         ]
        }
       ],
       "layout": {
        "autosize": false,
        "height": 470,
        "hoverlabel": {
         "bgcolor": "white",
         "font": {
          "family": "Rockwell",
          "size": 16
         }
        },
        "hovermode": "closest",
        "plot_bgcolor": "#ECEFF1",
        "showlegend": false,
        "template": {
         "data": {
          "bar": [
           {
            "error_x": {
             "color": "#2a3f5f"
            },
            "error_y": {
             "color": "#2a3f5f"
            },
            "marker": {
             "line": {
              "color": "white",
              "width": 0.5
             },
             "pattern": {
              "fillmode": "overlay",
              "size": 10,
              "solidity": 0.2
             }
            },
            "type": "bar"
           }
          ],
          "barpolar": [
           {
            "marker": {
             "line": {
              "color": "white",
              "width": 0.5
             },
             "pattern": {
              "fillmode": "overlay",
              "size": 10,
              "solidity": 0.2
             }
            },
            "type": "barpolar"
           }
          ],
          "carpet": [
           {
            "aaxis": {
             "endlinecolor": "#2a3f5f",
             "gridcolor": "#C8D4E3",
             "linecolor": "#C8D4E3",
             "minorgridcolor": "#C8D4E3",
             "startlinecolor": "#2a3f5f"
            },
            "baxis": {
             "endlinecolor": "#2a3f5f",
             "gridcolor": "#C8D4E3",
             "linecolor": "#C8D4E3",
             "minorgridcolor": "#C8D4E3",
             "startlinecolor": "#2a3f5f"
            },
            "type": "carpet"
           }
          ],
          "choropleth": [
           {
            "colorbar": {
             "outlinewidth": 0,
             "ticks": ""
            },
            "type": "choropleth"
           }
          ],
          "contour": [
           {
            "colorbar": {
             "outlinewidth": 0,
             "ticks": ""
            },
            "colorscale": [
             [
              0,
              "#0d0887"
             ],
             [
              0.1111111111111111,
              "#46039f"
             ],
             [
              0.2222222222222222,
              "#7201a8"
             ],
             [
              0.3333333333333333,
              "#9c179e"
             ],
             [
              0.4444444444444444,
              "#bd3786"
             ],
             [
              0.5555555555555556,
              "#d8576b"
             ],
             [
              0.6666666666666666,
              "#ed7953"
             ],
             [
              0.7777777777777778,
              "#fb9f3a"
             ],
             [
              0.8888888888888888,
              "#fdca26"
             ],
             [
              1,
              "#f0f921"
             ]
            ],
            "type": "contour"
           }
          ],
          "contourcarpet": [
           {
            "colorbar": {
             "outlinewidth": 0,
             "ticks": ""
            },
            "type": "contourcarpet"
           }
          ],
          "heatmap": [
           {
            "colorbar": {
             "outlinewidth": 0,
             "ticks": ""
            },
            "colorscale": [
             [
              0,
              "#0d0887"
             ],
             [
              0.1111111111111111,
              "#46039f"
             ],
             [
              0.2222222222222222,
              "#7201a8"
             ],
             [
              0.3333333333333333,
              "#9c179e"
             ],
             [
              0.4444444444444444,
              "#bd3786"
             ],
             [
              0.5555555555555556,
              "#d8576b"
             ],
             [
              0.6666666666666666,
              "#ed7953"
             ],
             [
              0.7777777777777778,
              "#fb9f3a"
             ],
             [
              0.8888888888888888,
              "#fdca26"
             ],
             [
              1,
              "#f0f921"
             ]
            ],
            "type": "heatmap"
           }
          ],
          "heatmapgl": [
           {
            "colorbar": {
             "outlinewidth": 0,
             "ticks": ""
            },
            "colorscale": [
             [
              0,
              "#0d0887"
             ],
             [
              0.1111111111111111,
              "#46039f"
             ],
             [
              0.2222222222222222,
              "#7201a8"
             ],
             [
              0.3333333333333333,
              "#9c179e"
             ],
             [
              0.4444444444444444,
              "#bd3786"
             ],
             [
              0.5555555555555556,
              "#d8576b"
             ],
             [
              0.6666666666666666,
              "#ed7953"
             ],
             [
              0.7777777777777778,
              "#fb9f3a"
             ],
             [
              0.8888888888888888,
              "#fdca26"
             ],
             [
              1,
              "#f0f921"
             ]
            ],
            "type": "heatmapgl"
           }
          ],
          "histogram": [
           {
            "marker": {
             "pattern": {
              "fillmode": "overlay",
              "size": 10,
              "solidity": 0.2
             }
            },
            "type": "histogram"
           }
          ],
          "histogram2d": [
           {
            "colorbar": {
             "outlinewidth": 0,
             "ticks": ""
            },
            "colorscale": [
             [
              0,
              "#0d0887"
             ],
             [
              0.1111111111111111,
              "#46039f"
             ],
             [
              0.2222222222222222,
              "#7201a8"
             ],
             [
              0.3333333333333333,
              "#9c179e"
             ],
             [
              0.4444444444444444,
              "#bd3786"
             ],
             [
              0.5555555555555556,
              "#d8576b"
             ],
             [
              0.6666666666666666,
              "#ed7953"
             ],
             [
              0.7777777777777778,
              "#fb9f3a"
             ],
             [
              0.8888888888888888,
              "#fdca26"
             ],
             [
              1,
              "#f0f921"
             ]
            ],
            "type": "histogram2d"
           }
          ],
          "histogram2dcontour": [
           {
            "colorbar": {
             "outlinewidth": 0,
             "ticks": ""
            },
            "colorscale": [
             [
              0,
              "#0d0887"
             ],
             [
              0.1111111111111111,
              "#46039f"
             ],
             [
              0.2222222222222222,
              "#7201a8"
             ],
             [
              0.3333333333333333,
              "#9c179e"
             ],
             [
              0.4444444444444444,
              "#bd3786"
             ],
             [
              0.5555555555555556,
              "#d8576b"
             ],
             [
              0.6666666666666666,
              "#ed7953"
             ],
             [
              0.7777777777777778,
              "#fb9f3a"
             ],
             [
              0.8888888888888888,
              "#fdca26"
             ],
             [
              1,
              "#f0f921"
             ]
            ],
            "type": "histogram2dcontour"
           }
          ],
          "mesh3d": [
           {
            "colorbar": {
             "outlinewidth": 0,
             "ticks": ""
            },
            "type": "mesh3d"
           }
          ],
          "parcoords": [
           {
            "line": {
             "colorbar": {
              "outlinewidth": 0,
              "ticks": ""
             }
            },
            "type": "parcoords"
           }
          ],
          "pie": [
           {
            "automargin": true,
            "type": "pie"
           }
          ],
          "scatter": [
           {
            "fillpattern": {
             "fillmode": "overlay",
             "size": 10,
             "solidity": 0.2
            },
            "type": "scatter"
           }
          ],
          "scatter3d": [
           {
            "line": {
             "colorbar": {
              "outlinewidth": 0,
              "ticks": ""
             }
            },
            "marker": {
             "colorbar": {
              "outlinewidth": 0,
              "ticks": ""
             }
            },
            "type": "scatter3d"
           }
          ],
          "scattercarpet": [
           {
            "marker": {
             "colorbar": {
              "outlinewidth": 0,
              "ticks": ""
             }
            },
            "type": "scattercarpet"
           }
          ],
          "scattergeo": [
           {
            "marker": {
             "colorbar": {
              "outlinewidth": 0,
              "ticks": ""
             }
            },
            "type": "scattergeo"
           }
          ],
          "scattergl": [
           {
            "marker": {
             "colorbar": {
              "outlinewidth": 0,
              "ticks": ""
             }
            },
            "type": "scattergl"
           }
          ],
          "scattermapbox": [
           {
            "marker": {
             "colorbar": {
              "outlinewidth": 0,
              "ticks": ""
             }
            },
            "type": "scattermapbox"
           }
          ],
          "scatterpolar": [
           {
            "marker": {
             "colorbar": {
              "outlinewidth": 0,
              "ticks": ""
             }
            },
            "type": "scatterpolar"
           }
          ],
          "scatterpolargl": [
           {
            "marker": {
             "colorbar": {
              "outlinewidth": 0,
              "ticks": ""
             }
            },
            "type": "scatterpolargl"
           }
          ],
          "scatterternary": [
           {
            "marker": {
             "colorbar": {
              "outlinewidth": 0,
              "ticks": ""
             }
            },
            "type": "scatterternary"
           }
          ],
          "surface": [
           {
            "colorbar": {
             "outlinewidth": 0,
             "ticks": ""
            },
            "colorscale": [
             [
              0,
              "#0d0887"
             ],
             [
              0.1111111111111111,
              "#46039f"
             ],
             [
              0.2222222222222222,
              "#7201a8"
             ],
             [
              0.3333333333333333,
              "#9c179e"
             ],
             [
              0.4444444444444444,
              "#bd3786"
             ],
             [
              0.5555555555555556,
              "#d8576b"
             ],
             [
              0.6666666666666666,
              "#ed7953"
             ],
             [
              0.7777777777777778,
              "#fb9f3a"
             ],
             [
              0.8888888888888888,
              "#fdca26"
             ],
             [
              1,
              "#f0f921"
             ]
            ],
            "type": "surface"
           }
          ],
          "table": [
           {
            "cells": {
             "fill": {
              "color": "#EBF0F8"
             },
             "line": {
              "color": "white"
             }
            },
            "header": {
             "fill": {
              "color": "#C8D4E3"
             },
             "line": {
              "color": "white"
             }
            },
            "type": "table"
           }
          ]
         },
         "layout": {
          "annotationdefaults": {
           "arrowcolor": "#2a3f5f",
           "arrowhead": 0,
           "arrowwidth": 1
          },
          "autotypenumbers": "strict",
          "coloraxis": {
           "colorbar": {
            "outlinewidth": 0,
            "ticks": ""
           }
          },
          "colorscale": {
           "diverging": [
            [
             0,
             "#8e0152"
            ],
            [
             0.1,
             "#c51b7d"
            ],
            [
             0.2,
             "#de77ae"
            ],
            [
             0.3,
             "#f1b6da"
            ],
            [
             0.4,
             "#fde0ef"
            ],
            [
             0.5,
             "#f7f7f7"
            ],
            [
             0.6,
             "#e6f5d0"
            ],
            [
             0.7,
             "#b8e186"
            ],
            [
             0.8,
             "#7fbc41"
            ],
            [
             0.9,
             "#4d9221"
            ],
            [
             1,
             "#276419"
            ]
           ],
           "sequential": [
            [
             0,
             "#0d0887"
            ],
            [
             0.1111111111111111,
             "#46039f"
            ],
            [
             0.2222222222222222,
             "#7201a8"
            ],
            [
             0.3333333333333333,
             "#9c179e"
            ],
            [
             0.4444444444444444,
             "#bd3786"
            ],
            [
             0.5555555555555556,
             "#d8576b"
            ],
            [
             0.6666666666666666,
             "#ed7953"
            ],
            [
             0.7777777777777778,
             "#fb9f3a"
            ],
            [
             0.8888888888888888,
             "#fdca26"
            ],
            [
             1,
             "#f0f921"
            ]
           ],
           "sequentialminus": [
            [
             0,
             "#0d0887"
            ],
            [
             0.1111111111111111,
             "#46039f"
            ],
            [
             0.2222222222222222,
             "#7201a8"
            ],
            [
             0.3333333333333333,
             "#9c179e"
            ],
            [
             0.4444444444444444,
             "#bd3786"
            ],
            [
             0.5555555555555556,
             "#d8576b"
            ],
            [
             0.6666666666666666,
             "#ed7953"
            ],
            [
             0.7777777777777778,
             "#fb9f3a"
            ],
            [
             0.8888888888888888,
             "#fdca26"
            ],
            [
             1,
             "#f0f921"
            ]
           ]
          },
          "colorway": [
           "#636efa",
           "#EF553B",
           "#00cc96",
           "#ab63fa",
           "#FFA15A",
           "#19d3f3",
           "#FF6692",
           "#B6E880",
           "#FF97FF",
           "#FECB52"
          ],
          "font": {
           "color": "#2a3f5f"
          },
          "geo": {
           "bgcolor": "white",
           "lakecolor": "white",
           "landcolor": "white",
           "showlakes": true,
           "showland": true,
           "subunitcolor": "#C8D4E3"
          },
          "hoverlabel": {
           "align": "left"
          },
          "hovermode": "closest",
          "mapbox": {
           "style": "light"
          },
          "paper_bgcolor": "white",
          "plot_bgcolor": "white",
          "polar": {
           "angularaxis": {
            "gridcolor": "#EBF0F8",
            "linecolor": "#EBF0F8",
            "ticks": ""
           },
           "bgcolor": "white",
           "radialaxis": {
            "gridcolor": "#EBF0F8",
            "linecolor": "#EBF0F8",
            "ticks": ""
           }
          },
          "scene": {
           "xaxis": {
            "backgroundcolor": "white",
            "gridcolor": "#DFE8F3",
            "gridwidth": 2,
            "linecolor": "#EBF0F8",
            "showbackground": true,
            "ticks": "",
            "zerolinecolor": "#EBF0F8"
           },
           "yaxis": {
            "backgroundcolor": "white",
            "gridcolor": "#DFE8F3",
            "gridwidth": 2,
            "linecolor": "#EBF0F8",
            "showbackground": true,
            "ticks": "",
            "zerolinecolor": "#EBF0F8"
           },
           "zaxis": {
            "backgroundcolor": "white",
            "gridcolor": "#DFE8F3",
            "gridwidth": 2,
            "linecolor": "#EBF0F8",
            "showbackground": true,
            "ticks": "",
            "zerolinecolor": "#EBF0F8"
           }
          },
          "shapedefaults": {
           "line": {
            "color": "#2a3f5f"
           }
          },
          "ternary": {
           "aaxis": {
            "gridcolor": "#DFE8F3",
            "linecolor": "#A2B1C6",
            "ticks": ""
           },
           "baxis": {
            "gridcolor": "#DFE8F3",
            "linecolor": "#A2B1C6",
            "ticks": ""
           },
           "bgcolor": "white",
           "caxis": {
            "gridcolor": "#DFE8F3",
            "linecolor": "#A2B1C6",
            "ticks": ""
           }
          },
          "title": {
           "x": 0.05
          },
          "xaxis": {
           "automargin": true,
           "gridcolor": "#EBF0F8",
           "linecolor": "#EBF0F8",
           "ticks": "",
           "title": {
            "standoff": 15
           },
           "zerolinecolor": "#EBF0F8",
           "zerolinewidth": 2
          },
          "yaxis": {
           "automargin": true,
           "gridcolor": "#EBF0F8",
           "linecolor": "#EBF0F8",
           "ticks": "",
           "title": {
            "standoff": 15
           },
           "zerolinecolor": "#EBF0F8",
           "zerolinewidth": 2
          }
         }
        },
        "title": {
         "font": {
          "color": "Black",
          "size": 22
         },
         "text": "<b>Hierarchical Clustering</b>",
         "x": 0.5,
         "xanchor": "center",
         "yanchor": "top"
        },
        "width": 1000,
        "xaxis": {
         "mirror": "allticks",
         "rangemode": "tozero",
         "showgrid": false,
         "showline": true,
         "showticklabels": true,
         "ticks": "outside",
         "type": "linear",
         "zeroline": false
        },
        "yaxis": {
         "mirror": "allticks",
         "range": [
          -180,
          0
         ],
         "rangemode": "tozero",
         "showgrid": false,
         "showline": true,
         "showticklabels": true,
         "tickmode": "array",
         "ticks": "outside",
         "ticktext": [
          "8_frozen_foods_market",
          "17_tickets_licensed_wine",
          "10_fish_takeaway_chips",
          "6_fat_foods_alcohol",
          "3_water_salt_oil",
          "2_restaurant_dishes_sauce",
          "9_middle_crushed_tahina",
          "14_dim_sims_sim",
          "11_know_answers_snake",
          "0_yesterday_town_hall",
          "13_war_communists_communism",
          "16_tho_coffin_masonic",
          "15_autumn_party_club",
          "7_trinder_cocktails_farewell",
          "4_bitch_dog_puppy",
          "1_start_2nd_second",
          "12_music_news_session",
          "5_theatre_troupe_delightful"
         ],
         "tickvals": [
          -5,
          -15,
          -25,
          -35,
          -45,
          -55,
          -65,
          -75,
          -85,
          -95,
          -105,
          -115,
          -125,
          -135,
          -145,
          -155,
          -165,
          -175
         ],
         "type": "linear",
         "zeroline": false
        }
       }
      }
     },
     "metadata": {},
     "output_type": "display_data"
    }
   ],
   "source": [
    "topic_model.visualize_hierarchy(hierarchical_topics=hierarchical_topics)"
   ]
  },
  {
   "cell_type": "code",
   "execution_count": 33,
   "metadata": {},
   "outputs": [],
   "source": [
    "def create_list_from_topics(row):\n",
    "    # First layer\n",
    "    if row['Topic'] in [2,3,6,8,9,10,17]:\n",
    "        first_element = 'Food'  \n",
    "    else:\n",
    "        first_element = 'Non-Food'\n",
    "    \n",
    "    # Second element condition using match\n",
    "    match row['Topic']:\n",
    "        # food\n",
    "        case 3:\n",
    "            second_element = 'Recipe'\n",
    "        case 2:\n",
    "            second_element = 'Restaurant Review'\n",
    "        case 6:\n",
    "            second_element = 'Health & Diet'\n",
    "        case 8:\n",
    "            second_element = 'Food Product Trade'\n",
    "        case 9:\n",
    "            second_element = 'Middle Eastern Food'\n",
    "        case 10:\n",
    "            second_element = 'Fish & Chips'\n",
    "        case 17:\n",
    "            second_element = 'Food Guide'\n",
    "        # non-food\n",
    "\n",
    "        case 0|16:\n",
    "            second_element = 'Community Events'\n",
    "        case 1:\n",
    "            second_element = 'Horse Race'\n",
    "        case 4:\n",
    "            second_element = 'Dog Show'\n",
    "        case 5:\n",
    "            second_element = 'Theatre & Entertainment'\n",
    "        case 7|15:\n",
    "            second_element = 'Social Events'\n",
    "        case 11:\n",
    "            second_element = 'Quiz'\n",
    "        case 12:\n",
    "            second_element = 'Programme Schedule'\n",
    "        case 13:\n",
    "            second_element = 'Government & Politics'\n",
    "        case 14:\n",
    "            second_element = 'Local News'       \n",
    "        case _:\n",
    "            second_element = 'Other'\n",
    "    \n",
    "    # Combine elements, filtering out None\n",
    "    result = [first_element] + ([second_element] if second_element is not None else [])\n",
    "    \n",
    "    return result"
   ]
  },
  {
   "cell_type": "code",
   "execution_count": 34,
   "metadata": {},
   "outputs": [],
   "source": [
    "def create_cat_corpus_knowledge(row):\n",
    "   if row['Topic'] == 16:\n",
    "      if re.search(r'\\bmason\\w*', row['Document'], re.IGNORECASE):\n",
    "         row['categories'] += ['Funeral for Chinese Mason']\n",
    "      elif re.search(r'\\byoungster\\w*', row['Document'], re.IGNORECASE):\n",
    "         row['categories'] += ['McKenzie\\'s Chinese Dinner for Youngsters']\n",
    "      else:\n",
    "         row['categories'] += ['Other']\n",
    "   \n",
    "   if row['Topic'] == 0:\n",
    "      if re.search(r'\\b\\w*war nurse\\w*', row['Document'], re.IGNORECASE) or re.search(r'\\b\\w*dim sim do\\w*', row['Document'], re.IGNORECASE):\n",
    "         row['categories'] += ['\\\"Dim Sim Do\\\" Fundraising for War Nurses']\n",
    "      else:\n",
    "         row['categories'] += ['Other']\n",
    "\n",
    "         \n",
    "         \n",
    "   \n",
    "   return row['categories']"
   ]
  },
  {
   "cell_type": "code",
   "execution_count": 35,
   "metadata": {},
   "outputs": [],
   "source": [
    "doc_label_df['categories'] = doc_label_df.apply(create_list_from_topics, axis=1)\n",
    "doc_label_df['categories'] = doc_label_df.apply(create_cat_corpus_knowledge, axis=1)"
   ]
  },
  {
   "cell_type": "code",
   "execution_count": 36,
   "metadata": {},
   "outputs": [],
   "source": [
    "# opt1 = ['Non-Food', 'Theatre & Entertainment', 'Other']\n",
    "# id = 100\n",
    "# doc_label_df.at[id, 'categories'] = opt1\n",
    "# print(doc_label_df.iloc[[id]])"
   ]
  },
  {
   "cell_type": "code",
   "execution_count": 37,
   "metadata": {},
   "outputs": [
    {
     "name": "stdout",
     "output_type": "stream",
     "text": [
      "                                           categories  count\n",
      "0                                   (Non-Food, Other)    204\n",
      "1                 (Non-Food, Community Events, Other)    139\n",
      "2                              (Non-Food, Horse Race)     87\n",
      "3                           (Food, Restaurant Review)     82\n",
      "4                                      (Food, Recipe)     33\n",
      "5                           (Non-Food, Social Events)     26\n",
      "6                                (Non-Food, Dog Show)     22\n",
      "7   (Non-Food, Community Events, \"Dim Sim Do\" Fund...     22\n",
      "8                 (Non-Food, Theatre & Entertainment)     21\n",
      "9                               (Food, Health & Diet)     17\n",
      "10                        (Food, Middle Eastern Food)     13\n",
      "11                               (Food, Fish & Chips)     13\n",
      "12                         (Food, Food Product Trade)     13\n",
      "13                                   (Non-Food, Quiz)     13\n",
      "14                     (Non-Food, Programme Schedule)     13\n",
      "15                  (Non-Food, Government & Politics)     11\n",
      "16                             (Non-Food, Local News)     11\n",
      "17                                 (Food, Food Guide)      8\n",
      "18  (Non-Food, Community Events, McKenzie's Chines...      3\n",
      "19  (Non-Food, Community Events, Funeral for Chine...      3\n"
     ]
    }
   ],
   "source": [
    "doc_label_df['category_path'] = doc_label_df['categories'].apply(tuple)\n",
    "\n",
    "# Count unique paths\n",
    "path_counts = doc_label_df['category_path'].value_counts().reset_index()\n",
    "path_counts.columns = ['categories', 'count']\n",
    "print(path_counts)"
   ]
  },
  {
   "cell_type": "code",
   "execution_count": 38,
   "metadata": {},
   "outputs": [
    {
     "ename": "SyntaxError",
     "evalue": "'[' was never closed (1048984495.py, line 14)",
     "output_type": "error",
     "traceback": [
      "\u001b[0;36m  Cell \u001b[0;32mIn[38], line 14\u001b[0;36m\u001b[0m\n\u001b[0;31m    def build_json_structure(tree, color_index=0, colors=[\"#fbc987\", \"\"#e74c3c, \"#2ecc71\", \"#f1c40f\", \"#9b59b6\", \"#34495e\", \"#1abc9c\"]):\u001b[0m\n\u001b[0m                                                         ^\u001b[0m\n\u001b[0;31mSyntaxError\u001b[0m\u001b[0;31m:\u001b[0m '[' was never closed\n"
     ]
    }
   ],
   "source": [
    "def parse_categories(category_counts):\n",
    "    tree = {}\n",
    "    for _, row in category_counts.iterrows():\n",
    "        current_level = tree\n",
    "        path = row['categories']\n",
    "        count = row['count']\n",
    "        for i, part in enumerate(path):\n",
    "            if part not in current_level:\n",
    "                current_level[part] = {} if i < len(path) - 1 else {'_count': count}\n",
    "            current_level = current_level[part]\n",
    "    return tree\n",
    "\n",
    "# Function to convert nested dictionary to the required JSON structure\n",
    "def build_json_structure(tree, color_index=0, colors=[\"#fbc987\", \"#fada85\",\"#fab285\",]):\n",
    "    result = []\n",
    "    for name, sub_tree in tree.items():\n",
    "        if '_count' in sub_tree:\n",
    "            # This is a leaf node, prepare the item with count\n",
    "            item = {\n",
    "                \"name\": name,\n",
    "                \"itemStyle\": {\"color\": colors[color_index % len(colors)]},\n",
    "                \"value\": sub_tree['_count']\n",
    "            }\n",
    "        else:\n",
    "            # Non-leaf node, recurse\n",
    "            item = {\n",
    "                \"name\": name,\n",
    "                \"itemStyle\": {\"color\": colors[color_index % len(colors)]},\n",
    "                \"children\": build_json_structure(sub_tree, color_index + 1)\n",
    "            }\n",
    "        result.append(item)\n",
    "    return result\n",
    "\n",
    "# Parse the category paths into a hierarchical dictionary\n",
    "category_tree = parse_categories(path_counts)\n",
    "\n",
    "# Convert the hierarchical dictionary to JSON structure\n",
    "json_structure = build_json_structure(category_tree)\n",
    "json_output = json.dumps(json_structure, indent=4)\n",
    "\n",
    "# Print and save the output\n",
    "print(json_output)\n",
    "with open('structured_web_data_input.json', 'w') as f:\n",
    "    f.write(json_output)"
   ]
  },
  {
   "cell_type": "code",
   "execution_count": 43,
   "metadata": {},
   "outputs": [],
   "source": [
    "#doc_label_df.set_index('id', inplace=True)\n",
    "\n",
    "data_json = doc_label_df[['categories','title','abstrct','date','authors','year', 'articleType', 'newspaper','thumbnailUrl']].to_json(orient='index')\n",
    "with open('keyed_article_data.json', 'w') as file:\n",
    "    json.dump(json.loads(data_json), file)"
   ]
  },
  {
   "cell_type": "code",
   "execution_count": 53,
   "metadata": {},
   "outputs": [],
   "source": [
    "category_to_ids = {}\n",
    "\n",
    "# Populate the dictionary with category to id mappings\n",
    "for index, row in doc_label_df.iterrows():\n",
    "    for category in row['categories']:\n",
    "        if category in category_to_ids:\n",
    "            category_to_ids[category].add(row['id'])\n",
    "        else:\n",
    "            category_to_ids[category] = {row['id']}\n",
    "\n",
    "# Optional: Convert set to list if required\n",
    "for category in category_to_ids:\n",
    "    category_to_ids[category] = list(category_to_ids[category])\n"
   ]
  },
  {
   "cell_type": "code",
   "execution_count": 59,
   "metadata": {},
   "outputs": [],
   "source": [
    "json_output = json.dumps(category_to_ids)\n",
    "\n",
    "# Optionally, write the JSON output to a file\n",
    "file_path = 'category_id.json'\n",
    "with open(file_path, 'w') as file:\n",
    "    file.write(json_output)"
   ]
  },
  {
   "cell_type": "code",
   "execution_count": 11,
   "metadata": {},
   "outputs": [],
   "source": [
    "data_json = json.loads(data_json)"
   ]
  },
  {
   "cell_type": "code",
   "execution_count": 12,
   "metadata": {},
   "outputs": [
    {
     "name": "stdout",
     "output_type": "stream",
     "text": [
      "[\n",
      "    {\n",
      "        \"name\": \"Non-Food\",\n",
      "        \"children\": [\n",
      "            {\n",
      "                \"name\": \"Community Events\",\n",
      "                \"children\": [\n",
      "                    {\n",
      "                        \"name\": \"Other\",\n",
      "                        \"children\": [],\n",
      "                        \"value\": 1\n",
      "                    },\n",
      "                    {\n",
      "                        \"name\": \"Funeral for Chinese Mason\",\n",
      "                        \"children\": [],\n",
      "                        \"value\": 1\n",
      "                    },\n",
      "                    {\n",
      "                        \"name\": \"McKenzie's Chinese Dinner for Youngsters\",\n",
      "                        \"children\": [],\n",
      "                        \"value\": 1\n",
      "                    },\n",
      "                    {\n",
      "                        \"name\": \"\\\"Dim Sim Do\\\" Fundraising for War Nurses\",\n",
      "                        \"children\": [],\n",
      "                        \"value\": 1\n",
      "                    }\n",
      "                ]\n",
      "            },\n",
      "            {\n",
      "                \"name\": \"Theatre & Entertainment\",\n",
      "                \"children\": [],\n",
      "                \"value\": 1\n",
      "            },\n",
      "            {\n",
      "                \"name\": \"Dog Show\",\n",
      "                \"children\": [],\n",
      "                \"value\": 1\n",
      "            },\n",
      "            {\n",
      "                \"name\": \"Programme Schedule\",\n",
      "                \"children\": [],\n",
      "                \"value\": 1\n",
      "            },\n",
      "            {\n",
      "                \"name\": \"Quiz\",\n",
      "                \"children\": [],\n",
      "                \"value\": 1\n",
      "            },\n",
      "            {\n",
      "                \"name\": \"Horse Race\",\n",
      "                \"children\": [],\n",
      "                \"value\": 1\n",
      "            },\n",
      "            {\n",
      "                \"name\": \"Social Events\",\n",
      "                \"children\": [],\n",
      "                \"value\": 1\n",
      "            },\n",
      "            {\n",
      "                \"name\": \"Government & Politics\",\n",
      "                \"children\": [],\n",
      "                \"value\": 1\n",
      "            },\n",
      "            {\n",
      "                \"name\": \"Local News\",\n",
      "                \"children\": [],\n",
      "                \"value\": 1\n",
      "            }\n",
      "        ]\n",
      "    },\n",
      "    {\n",
      "        \"name\": \"Food\",\n",
      "        \"children\": [\n",
      "            {\n",
      "                \"name\": \"Recipe\",\n",
      "                \"children\": [],\n",
      "                \"value\": 1\n",
      "            },\n",
      "            {\n",
      "                \"name\": \"Restaurant Review\",\n",
      "                \"children\": [],\n",
      "                \"value\": 1\n",
      "            },\n",
      "            {\n",
      "                \"name\": \"Health & Diet\",\n",
      "                \"children\": [],\n",
      "                \"value\": 1\n",
      "            },\n",
      "            {\n",
      "                \"name\": \"Food Product Trade\",\n",
      "                \"children\": [],\n",
      "                \"value\": 1\n",
      "            },\n",
      "            {\n",
      "                \"name\": \"Fish & Chips\",\n",
      "                \"children\": [],\n",
      "                \"value\": 1\n",
      "            },\n",
      "            {\n",
      "                \"name\": \"Middle Eastern Food\",\n",
      "                \"children\": [],\n",
      "                \"value\": 1\n",
      "            },\n",
      "            {\n",
      "                \"name\": \"Food Guide\",\n",
      "                \"children\": [],\n",
      "                \"value\": 1\n",
      "            }\n",
      "        ]\n",
      "    }\n",
      "]\n"
     ]
    }
   ],
   "source": [
    "def parse_categories(categories):\n",
    "    tree = {}\n",
    "    for path in categories:\n",
    "        current_level = tree\n",
    "        for part in path['categories']:\n",
    "            if part not in current_level:\n",
    "                current_level[part] = {}\n",
    "            current_level = current_level[part]\n",
    "    return tree\n",
    "\n",
    "# Function to convert nested dictionary to the required JSON structure\n",
    "def build_json_structure(tree, color_index=0, colors=[\"#3498db\", \"#e74c3c\", \"#2ecc71\", \"#f1c40f\", \"#9b59b6\", \"#34495e\", \"#1abc9c\"]):\n",
    "    result = []\n",
    "    for name, sub_tree in tree.items():\n",
    "        item = {\n",
    "            \"name\": name,\n",
    "            #\"itemStyle\": {\"color\": colors[color_index % len(colors)]},\n",
    "            \"children\": build_json_structure(sub_tree, color_index + 1) if sub_tree else []\n",
    "        }\n",
    "        # Check if node is a leaf (no children)\n",
    "        if not item[\"children\"]:\n",
    "            item[\"value\"] = 1  # Add 'value': 1 for leaf nodes\n",
    "        result.append(item)\n",
    "    return result\n",
    "\n",
    "# Parse the flat list into a hierarchical dictionary\n",
    "category_tree = parse_categories(data_json)\n",
    "\n",
    "# Convert the hierarchical dictionary to JSON structure\n",
    "json_structure = build_json_structure(category_tree)\n",
    "json_output = json.dumps(json_structure, indent=4)\n",
    "\n",
    "print(json_output)\n",
    "#Print and save the output\n",
    "with open('structured_web_data_input.json', 'w') as f:\n",
    "    f.write(json_output)"
   ]
  },
  {
   "cell_type": "code",
   "execution_count": null,
   "metadata": {},
   "outputs": [],
   "source": []
  }
 ],
 "metadata": {
  "kernelspec": {
   "display_name": "Python 3",
   "language": "python",
   "name": "python3"
  },
  "language_info": {
   "codemirror_mode": {
    "name": "ipython",
    "version": 3
   },
   "file_extension": ".py",
   "mimetype": "text/x-python",
   "name": "python",
   "nbconvert_exporter": "python",
   "pygments_lexer": "ipython3",
   "version": "3.11.4"
  }
 },
 "nbformat": 4,
 "nbformat_minor": 2
}
