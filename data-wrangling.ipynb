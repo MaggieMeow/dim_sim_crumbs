{
 "cells": [
  {
   "cell_type": "code",
   "execution_count": 1,
   "metadata": {},
   "outputs": [],
   "source": [
    "\n",
    "import numpy as np\n",
    "import pandas as pd\n",
    "\n",
    "from tqdm.notebook import tqdm\n",
    "import json\n",
    "import re\n",
    "\n",
    "tqdm.pandas()"
   ]
  },
  {
   "cell_type": "code",
   "execution_count": 31,
   "metadata": {},
   "outputs": [],
   "source": [
    "original_df = pd.read_csv('/Users/magz/Documents/workspace/asia3012/dim-sim-newspaper-full-text-16jan-cleaned.csv')\n",
    "doc_label_df = pd.read_csv('/Users/magz/Documents/workspace/asia3012/doc-topic-label-31jan.csv', index_col=0)\n",
    "\n"
   ]
  },
  {
   "cell_type": "code",
   "execution_count": 20,
   "metadata": {},
   "outputs": [
    {
     "data": {
      "text/plain": [
       "Index(['Unnamed: 0', 'id', 'workAnnotationLabel', 'annotatedId', 'title',\n",
       "       'formatDisplay', 'format', 'mainFormat', 'numFormats', 'itemMedia',\n",
       "       'itemFormats', 'topItemFormats', 'primaryFormat', 'description',\n",
       "       'yearRange', 'snippets', 'author', 'authors', 'workType',\n",
       "       'thumbnailUrl', 'thumbnailIsCulturallySensitive', 'numItems',\n",
       "       'numHoldings', 'onlineUrl', 'onlineText', 'languages', 'austLanguages',\n",
       "       'firstArticlePublicationName', 'culturallySensitive',\n",
       "       'firstAustraliansInd', 'correctableText', 'newspaper', 'abstrct',\n",
       "       'date', 'page', 'numberOfCorrectors', 'correctedByMe', 'wordCount',\n",
       "       'articleType', 'illustrated', 'cleanedAbstract', 'cleanedSnip',\n",
       "       'cleanedTitle', 'year', 'text', 'cleanedText'],\n",
       "      dtype='object')"
      ]
     },
     "execution_count": 20,
     "metadata": {},
     "output_type": "execute_result"
    }
   ],
   "source": [
    "original_df.columns"
   ]
  },
  {
   "cell_type": "code",
   "execution_count": 32,
   "metadata": {},
   "outputs": [],
   "source": [
    "#doc_label_df = pd.concat([doc_label_df, original_df[['articleType', 'newspaper','thumbnailUrl']]], axis=1)\n",
    "doc_label_df = pd.concat([doc_label_df, original_df[['id','title','abstrct','date','authors','year', 'articleType', 'newspaper','thumbnailUrl']]], axis=1)\n"
   ]
  },
  {
   "cell_type": "code",
   "execution_count": 6,
   "metadata": {},
   "outputs": [],
   "source": [
    "from bertopic import BERTopic\n",
    "from umap import UMAP\n",
    "from sentence_transformers import SentenceTransformer\n",
    "from sentence_transformers.util import cos_sim\n",
    "from bertopic.vectorizers import ClassTfidfTransformer\n",
    "from sklearn.feature_extraction.text import CountVectorizer\n",
    "from hdbscan import HDBSCAN\n",
    "from bertopic.representation import KeyBERTInspired, MaximalMarginalRelevance, OpenAI, PartOfSpeech\n",
    "import ast\n",
    "from scipy.cluster import hierarchy as sch"
   ]
  },
  {
   "cell_type": "code",
   "execution_count": 11,
   "metadata": {},
   "outputs": [],
   "source": [
    "bertopic_df = pd.read_csv('/Users/magz/Documents/workspace/asia3012/embedded_data_jan_20.csv',index_col=0)\n",
    "bertopic_df['embedding'] = bertopic_df['embedding'].apply(ast.literal_eval).apply(lambda x: np.array(x, dtype=np.float32))\n",
    "embedding = np.array(bertopic_df['embedding'].to_list(), dtype=np.float32)"
   ]
  },
  {
   "cell_type": "code",
   "execution_count": 12,
   "metadata": {},
   "outputs": [
    {
     "name": "stderr",
     "output_type": "stream",
     "text": [
      "2024-05-13 00:01:04,503 - BERTopic - Dimensionality - Fitting the dimensionality reduction algorithm\n",
      "2024-05-13 00:01:09,970 - BERTopic - Dimensionality - Completed ✓\n",
      "2024-05-13 00:01:09,971 - BERTopic - Cluster - Start clustering the reduced embeddings\n",
      "2024-05-13 00:01:09,991 - BERTopic - Cluster - Completed ✓\n",
      "2024-05-13 00:01:09,992 - BERTopic - Representation - Extracting topics from clusters using representation models.\n",
      "2024-05-13 00:02:12,210 - BERTopic - Representation - Completed ✓\n",
      "2024-05-13 00:02:12,212 - BERTopic - Topic reduction - Reducing number of topics\n",
      "2024-05-13 00:02:54,400 - BERTopic - Topic reduction - Reduced number of topics from 34 to 19\n"
     ]
    },
    {
     "name": "stdout",
     "output_type": "stream",
     "text": [
      "    Topic  Count                                   Name  \\\n",
      "0      -1    204               -1_ctns_time_bgs_betting   \n",
      "1       0    159          0_yesterday_town_hall_members   \n",
      "2       1     87                 1_start_2nd_second_ond   \n",
      "3       2     82      2_restaurant_dishes_sauce_chicken   \n",
      "4       3     33                 3_water_salt_oil_sauce   \n",
      "5       4     22                 4_bitch_dog_puppy_best   \n",
      "6       5     21  5_theatre_troupe_delightful_programme   \n",
      "7       6     17             6_fat_foods_alcohol_energy   \n",
      "8       7     16     7_trinder_cocktails_farewell_party   \n",
      "9       8     13          8_frozen_foods_market_porkers   \n",
      "10      9     13          9_middle_crushed_tahina_lemon   \n",
      "11     10     13            10_fish_takeaway_chips_shop   \n",
      "12     11     13           11_know_answers_snake_answer   \n",
      "13     12     13          12_music_news_session_weather   \n",
      "14     13     11    13_war_communists_communism_foreign   \n",
      "15     14     11                    14_dim_sims_sim_cab   \n",
      "16     15     10             15_autumn_party_club_await   \n",
      "17     16      8           16_tho_coffin_masonic_street   \n",
      "18     17      8          17_tickets_licensed_wine_site   \n",
      "\n",
      "                                       Representation  \\\n",
      "0   [ctns, time, bgs, betting, length, new, help, ...   \n",
      "1   [yesterday, town, hall, members, stall, year, ...   \n",
      "2   [start, 2nd, second, ond, race, res, form, win...   \n",
      "3   [restaurant, dishes, sauce, chicken, satay, so...   \n",
      "4   [water, salt, oil, sauce, teaspoon, minutes, f...   \n",
      "5   [bitch, dog, puppy, best, open, junior, exhibi...   \n",
      "6   [theatre, troupe, delightful, programme, sketc...   \n",
      "7   [fat, foods, alcohol, energy, weight, diet, fo...   \n",
      "8   [trinder, cocktails, farewell, party, point, h...   \n",
      "9   [frozen, foods, market, porkers, calves, deman...   \n",
      "10  [middle, crushed, tahina, lemon, dips, restaur...   \n",
      "11  [fish, takeaway, chips, shop, customers, oasis...   \n",
      "12  [know, answers, snake, answer, wedding, battle...   \n",
      "13  [music, news, session, weather, talk, dance, s...   \n",
      "14  [war, communists, communism, foreign, policy, ...   \n",
      "15  [dim, sims, sim, cab, face, suey, pie, delicac...   \n",
      "16  [autumn, party, club, await, ally, lovely, mot...   \n",
      "17  [tho, coffin, masonic, street, mourning, rites...   \n",
      "18  [tickets, licensed, wine, site, dinner, noon, ...   \n",
      "\n",
      "                                  Representative_Docs  \n",
      "0   [CLASSIFIED ADVERTISEMENTS CHEAP AND EFFECTIVE...  \n",
      "1   [AIRMEN AND NURSES IN MARCH THROUGH CITY Crowd...  \n",
      "2   [arold Park trots tonight 1. Auburn Hep 2350m ...  \n",
      "3   [none Help JAY'S OUT none Help Eastern out eas...  \n",
      "4   [SOME SAVORY DISHES (KEEP'S Liver (as the Fren...  \n",
      "5   [AUSTRALIAN LADIES' KENNEL' CLUB Successful Pa...  \n",
      "6   [BRIGHT SCENES MAXIMS AT CREMORNE JESTS AND JI...  \n",
      "7   [Feed your fitness regime A balanced diet is i...  \n",
      "8   [Cm 4r ffk iff /ff 8S jffjMM Jffff ffjjff Mm ....  \n",
      "9   [MELBOURNE PIG MARKET SEPTEMBER 30 — OCTOBER 1...  \n",
      "10  [DINING & WINING JAY'S OUT none Help none Help...  \n",
      "11  [Meals cooked to perfection Port Lincoln's Mor...  \n",
      "12  [NOW YOU KNOW | (Solution from page 6) - g 2— ...  \n",
      "13  [Sunday 5CL and 5CK. — 10— Special service fro...  \n",
      "14  [.iljWlIIlB^^^^M [?] Something is being cooked...  \n",
      "15  [Taxi man took dim view of a dim sim That smal...  \n",
      "16  [[?] «wmay<wwwwcP9wwgMewewwM8fiagwwwwwww99w« <...  \n",
      "17  [Melbourne's Disappearing Chinatown By... Geor...  \n",
      "18  [Canberra Festival 87 ENational Food & Wine Fr...  \n"
     ]
    }
   ],
   "source": [
    "umap_model = UMAP(n_neighbors=20, n_components=5, min_dist=0.0, metric='cosine', random_state=50)\n",
    "\n",
    "# Step 3 - Cluster reduced embeddings\n",
    "hdbscan_model = HDBSCAN(min_cluster_size=7, metric='euclidean', cluster_selection_method='eom', prediction_data=True)\n",
    "vectorizer_model = CountVectorizer(stop_words=\"english\", token_pattern='[a-zA-Z0-9]{3,}')\n",
    "ctfidf_model = ClassTfidfTransformer(reduce_frequent_words=True)\n",
    "pos_model = PartOfSpeech(\"en_core_web_sm\")\n",
    "\n",
    "topic_model = BERTopic(n_gram_range=(1, 1), verbose=True, nr_topics='auto',\n",
    "                       top_n_words=15,\n",
    "                       umap_model=umap_model,\n",
    "                       hdbscan_model=hdbscan_model,\n",
    "                       vectorizer_model=vectorizer_model,\n",
    "                       ctfidf_model=ctfidf_model,\n",
    "                       representation_model = pos_model,\n",
    "                       )\n",
    "\n",
    "topics, probs = topic_model.fit_transform(bertopic_df['cleanedTextBert'], embeddings=embedding)\n",
    "print(topic_model.get_topic_info())"
   ]
  },
  {
   "cell_type": "code",
   "execution_count": 13,
   "metadata": {},
   "outputs": [
    {
     "name": "stderr",
     "output_type": "stream",
     "text": [
      "100%|██████████| 17/17 [01:17<00:00,  4.54s/it]"
     ]
    },
    {
     "name": "stdout",
     "output_type": "stream",
     "text": [
      "   Parent_ID                        Parent_Name  \\\n",
      "16        34   yesterday_town_hall_members_year   \n",
      "15        33   yesterday_town_hall_members_year   \n",
      "14        32    yesterday_hall_members_year_day   \n",
      "13        31    yesterday_hall_members_year_day   \n",
      "12        30   yesterday_town_hall_members_year   \n",
      "11        29    yesterday_hall_members_year_day   \n",
      "10        28         town_members_year_day_work   \n",
      "9         27   yesterday_town_hall_members_year   \n",
      "8         26              year_day_work_men_dim   \n",
      "7         25  yesterday_town_hall_members_stall   \n",
      "6         24         town_members_year_day_work   \n",
      "5         23          members_year_day_work_men   \n",
      "4         22    yesterday_town_members_year_day   \n",
      "3         21            town_hall_year_day_work   \n",
      "2         20  yesterday_town_hall_members_stall   \n",
      "1         19          members_year_day_work_dim   \n",
      "0         18           town_stall_year_day_work   \n",
      "\n",
      "                                               Topics Child_Left_ID  \\\n",
      "16  [0, 1, 2, 3, 4, 5, 6, 7, 8, 9, 10, 11, 12, 13,...            28   \n",
      "15            [0, 1, 4, 5, 7, 11, 12, 13, 14, 15, 16]            30   \n",
      "14                               [1, 4, 5, 7, 12, 15]            22   \n",
      "13                                      [1, 4, 5, 12]            29   \n",
      "12                                [0, 11, 13, 14, 16]            14   \n",
      "11                                         [1, 4, 12]             4   \n",
      "10                            [2, 3, 6, 8, 9, 10, 17]             8   \n",
      "9                                     [0, 11, 13, 16]            25   \n",
      "8                                             [1, 12]             1   \n",
      "7                                         [0, 11, 13]            11   \n",
      "6                                [2, 3, 6, 9, 10, 17]            21   \n",
      "5                                        [2, 3, 6, 9]            19   \n",
      "4                                             [7, 15]            15   \n",
      "3                                            [10, 17]            17   \n",
      "2                                             [0, 13]             0   \n",
      "1                                              [3, 6]             6   \n",
      "0                                              [2, 9]             2   \n",
      "\n",
      "                          Child_Left_Name Child_Right_ID  \\\n",
      "16             town_members_year_day_work             33   \n",
      "15       yesterday_town_hall_members_year             32   \n",
      "14        yesterday_town_members_year_day             31   \n",
      "13        yesterday_hall_members_year_day              5   \n",
      "12                  dim_sims_sim_cab_face             27   \n",
      "11              bitch_dog_puppy_best_open             26   \n",
      "10     frozen_foods_market_porkers_calves             24   \n",
      "9       yesterday_town_hall_members_stall             16   \n",
      "8               start_2nd_second_ond_race             12   \n",
      "7       know_answers_snake_answer_wedding             20   \n",
      "6                 town_hall_year_day_work             23   \n",
      "5               members_year_day_work_dim             18   \n",
      "4            autumn_party_club_await_ally              7   \n",
      "3       tickets_licensed_wine_site_dinner             10   \n",
      "2       yesterday_town_hall_members_stall             13   \n",
      "1         fat_foods_alcohol_energy_weight              3   \n",
      "0   restaurant_dishes_sauce_chicken_satay              9   \n",
      "\n",
      "                                Child_Right_Name  Distance  \n",
      "16              yesterday_town_hall_members_year  1.215712  \n",
      "15               yesterday_hall_members_year_day  0.996366  \n",
      "14               yesterday_hall_members_year_day  0.954419  \n",
      "13  theatre_troupe_delightful_programme_sketches  0.935498  \n",
      "12              yesterday_town_hall_members_year  0.903283  \n",
      "11                         year_day_work_men_dim  0.894185  \n",
      "10                    town_members_year_day_work  0.888387  \n",
      "9             tho_coffin_masonic_street_mourning  0.867009  \n",
      "8                music_news_session_weather_talk  0.857771  \n",
      "7              yesterday_town_hall_members_stall  0.826649  \n",
      "6                      members_year_day_work_men  0.825933  \n",
      "5                       town_stall_year_day_work  0.800826  \n",
      "4         trinder_cocktails_farewell_party_point  0.793619  \n",
      "3             fish_takeaway_chips_shop_customers  0.751100  \n",
      "2        war_communists_communism_foreign_policy  0.722063  \n",
      "1                  water_salt_oil_sauce_teaspoon  0.689277  \n",
      "0               middle_crushed_tahina_lemon_dips  0.574815  \n"
     ]
    },
    {
     "name": "stderr",
     "output_type": "stream",
     "text": [
      "\n"
     ]
    }
   ],
   "source": [
    "hierarchical_topics = topic_model.hierarchical_topics(bertopic_df['cleanedTextBert'])\n",
    "print(hierarchical_topics)"
   ]
  },
  {
   "cell_type": "code",
   "execution_count": 14,
   "metadata": {},
   "outputs": [
    {
     "data": {
      "application/vnd.plotly.v1+json": {
       "config": {
        "plotlyServerURL": "https://plot.ly"
       },
       "data": [
        {
         "hoverinfo": "text",
         "marker": {
          "color": "rgb(61,153,112)"
         },
         "mode": "lines",
         "text": [
          "tickets_licensed_wine_site_dinner",
          "",
          "",
          "fish_takeaway_chips_shop_customers"
         ],
         "type": "scatter",
         "x": [
          0,
          0.7511001933337524,
          0.7511001933337524,
          0
         ],
         "xaxis": "x",
         "y": [
          -15,
          -15,
          -25,
          -25
         ],
         "yaxis": "y"
        },
        {
         "hoverinfo": "text",
         "marker": {
          "color": "rgb(61,153,112)"
         },
         "mode": "lines",
         "text": [
          "fat_foods_alcohol_energy_weight",
          "",
          "",
          "water_salt_oil_sauce_teaspoon"
         ],
         "type": "scatter",
         "x": [
          0,
          0.6892770464142643,
          0.6892770464142643,
          0
         ],
         "xaxis": "x",
         "y": [
          -35,
          -35,
          -45,
          -45
         ],
         "yaxis": "y"
        },
        {
         "hoverinfo": "text",
         "marker": {
          "color": "rgb(61,153,112)"
         },
         "mode": "lines",
         "text": [
          "restaurant_dishes_sauce_chicken_satay",
          "",
          "",
          "middle_crushed_tahina_lemon_dips"
         ],
         "type": "scatter",
         "x": [
          0,
          0.5748145687951174,
          0.5748145687951174,
          0
         ],
         "xaxis": "x",
         "y": [
          -55,
          -55,
          -65,
          -65
         ],
         "yaxis": "y"
        },
        {
         "hoverinfo": "text",
         "marker": {
          "color": "rgb(61,153,112)"
         },
         "mode": "lines",
         "text": [
          "members_year_day_work_dim",
          "",
          "",
          "town_stall_year_day_work"
         ],
         "type": "scatter",
         "x": [
          0.6892770464142643,
          0.8008261764613614,
          0.8008261764613614,
          0.5748145687951174
         ],
         "xaxis": "x",
         "y": [
          -40,
          -40,
          -60,
          -60
         ],
         "yaxis": "y"
        },
        {
         "hoverinfo": "text",
         "marker": {
          "color": "rgb(61,153,112)"
         },
         "mode": "lines",
         "text": [
          "town_hall_year_day_work",
          "",
          "",
          "members_year_day_work_men"
         ],
         "type": "scatter",
         "x": [
          0.7511001933337524,
          0.8259330443230478,
          0.8259330443230478,
          0.8008261764613614
         ],
         "xaxis": "x",
         "y": [
          -20,
          -20,
          -50,
          -50
         ],
         "yaxis": "y"
        },
        {
         "hoverinfo": "text",
         "marker": {
          "color": "rgb(61,153,112)"
         },
         "mode": "lines",
         "text": [
          "frozen_foods_market_porkers_calves",
          "",
          "",
          "town_members_year_day_work"
         ],
         "type": "scatter",
         "x": [
          0,
          0.8883873582316428,
          0.8883873582316428,
          0.8259330443230478
         ],
         "xaxis": "x",
         "y": [
          -5,
          -5,
          -35,
          -35
         ],
         "yaxis": "y"
        },
        {
         "hoverinfo": "text",
         "marker": {
          "color": "rgb(255,65,54)"
         },
         "mode": "lines",
         "text": [
          "yesterday_town_hall_members_stall",
          "",
          "",
          "war_communists_communism_foreign_policy"
         ],
         "type": "scatter",
         "x": [
          0,
          0.7220626589421661,
          0.7220626589421661,
          0
         ],
         "xaxis": "x",
         "y": [
          -95,
          -95,
          -105,
          -105
         ],
         "yaxis": "y"
        },
        {
         "hoverinfo": "text",
         "marker": {
          "color": "rgb(255,65,54)"
         },
         "mode": "lines",
         "text": [
          "know_answers_snake_answer_wedding",
          "",
          "",
          "yesterday_town_hall_members_stall"
         ],
         "type": "scatter",
         "x": [
          0,
          0.8266485917306692,
          0.8266485917306692,
          0.7220626589421661
         ],
         "xaxis": "x",
         "y": [
          -85,
          -85,
          -100,
          -100
         ],
         "yaxis": "y"
        },
        {
         "hoverinfo": "text",
         "marker": {
          "color": "rgb(255,65,54)"
         },
         "mode": "lines",
         "text": [
          "yesterday_town_hall_members_stall",
          "",
          "",
          "tho_coffin_masonic_street_mourning"
         ],
         "type": "scatter",
         "x": [
          0.8266485917306692,
          0.867009005186988,
          0.867009005186988,
          0
         ],
         "xaxis": "x",
         "y": [
          -92.5,
          -92.5,
          -115,
          -115
         ],
         "yaxis": "y"
        },
        {
         "hoverinfo": "text",
         "marker": {
          "color": "rgb(255,65,54)"
         },
         "mode": "lines",
         "text": [
          "dim_sims_sim_cab_face",
          "",
          "",
          "yesterday_town_hall_members_year"
         ],
         "type": "scatter",
         "x": [
          0,
          0.9032827625388457,
          0.9032827625388457,
          0.867009005186988
         ],
         "xaxis": "x",
         "y": [
          -75,
          -75,
          -103.75,
          -103.75
         ],
         "yaxis": "y"
        },
        {
         "hoverinfo": "text",
         "marker": {
          "color": "rgb(255,65,54)"
         },
         "mode": "lines",
         "text": [
          "autumn_party_club_await_ally",
          "",
          "",
          "trinder_cocktails_farewell_party_point"
         ],
         "type": "scatter",
         "x": [
          0,
          0.7936189249288054,
          0.7936189249288054,
          0
         ],
         "xaxis": "x",
         "y": [
          -125,
          -125,
          -135,
          -135
         ],
         "yaxis": "y"
        },
        {
         "hoverinfo": "text",
         "marker": {
          "color": "rgb(255,65,54)"
         },
         "mode": "lines",
         "text": [
          "start_2nd_second_ond_race",
          "",
          "",
          "music_news_session_weather_talk"
         ],
         "type": "scatter",
         "x": [
          0,
          0.8577705814724005,
          0.8577705814724005,
          0
         ],
         "xaxis": "x",
         "y": [
          -155,
          -155,
          -165,
          -165
         ],
         "yaxis": "y"
        },
        {
         "hoverinfo": "text",
         "marker": {
          "color": "rgb(255,65,54)"
         },
         "mode": "lines",
         "text": [
          "bitch_dog_puppy_best_open",
          "",
          "",
          "year_day_work_men_dim"
         ],
         "type": "scatter",
         "x": [
          0,
          0.8941848977166617,
          0.8941848977166617,
          0.8577705814724005
         ],
         "xaxis": "x",
         "y": [
          -145,
          -145,
          -160,
          -160
         ],
         "yaxis": "y"
        },
        {
         "hoverinfo": "text",
         "marker": {
          "color": "rgb(255,65,54)"
         },
         "mode": "lines",
         "text": [
          "yesterday_hall_members_year_day",
          "",
          "",
          "theatre_troupe_delightful_programme_sketches"
         ],
         "type": "scatter",
         "x": [
          0.8941848977166617,
          0.9354975109460001,
          0.9354975109460001,
          0
         ],
         "xaxis": "x",
         "y": [
          -152.5,
          -152.5,
          -175,
          -175
         ],
         "yaxis": "y"
        },
        {
         "hoverinfo": "text",
         "marker": {
          "color": "rgb(255,65,54)"
         },
         "mode": "lines",
         "text": [
          "yesterday_town_members_year_day",
          "",
          "",
          "yesterday_hall_members_year_day"
         ],
         "type": "scatter",
         "x": [
          0.7936189249288054,
          0.9544190889705322,
          0.9544190889705322,
          0.9354975109460001
         ],
         "xaxis": "x",
         "y": [
          -130,
          -130,
          -163.75,
          -163.75
         ],
         "yaxis": "y"
        },
        {
         "hoverinfo": "text",
         "marker": {
          "color": "rgb(255,65,54)"
         },
         "mode": "lines",
         "text": [
          "yesterday_town_hall_members_year",
          "",
          "",
          "yesterday_hall_members_year_day"
         ],
         "type": "scatter",
         "x": [
          0.9032827625388457,
          0.9963657090210876,
          0.9963657090210876,
          0.9544190889705322
         ],
         "xaxis": "x",
         "y": [
          -89.375,
          -89.375,
          -146.875,
          -146.875
         ],
         "yaxis": "y"
        },
        {
         "hoverinfo": "text",
         "marker": {
          "color": "rgb(0,116,217)"
         },
         "mode": "lines",
         "text": [
          "town_members_year_day_work",
          "",
          "",
          "yesterday_town_hall_members_year"
         ],
         "type": "scatter",
         "x": [
          0.8883873582316428,
          1.2157124157679684,
          1.2157124157679684,
          0.9963657090210876
         ],
         "xaxis": "x",
         "y": [
          -20,
          -20,
          -118.125,
          -118.125
         ],
         "yaxis": "y"
        },
        {
         "hoverinfo": "text",
         "hovertext": [
          "members_year_day_work_dim",
          "town_hall_year_day_work",
          "yesterday_town_hall_members_stall",
          "yesterday_hall_members_year_day",
          "yesterday_town_members_year_day",
          "yesterday_town_hall_members_year",
          "town_members_year_day_work"
         ],
         "marker": {
          "color": "black"
         },
         "mode": "markers",
         "showlegend": false,
         "type": "scatter",
         "x": [
          0.6892770464142643,
          0.7511001933337524,
          0.8266485917306692,
          0.8941848977166617,
          0.7936189249288054,
          0.9032827625388457,
          0.8883873582316428
         ],
         "y": [
          -40,
          -20,
          -92.5,
          -152.5,
          -130,
          -89.375,
          -20
         ]
        },
        {
         "hoverinfo": "text",
         "hovertext": [
          "town_stall_year_day_work",
          "members_year_day_work_men",
          "town_members_year_day_work",
          "yesterday_town_hall_members_stall",
          "yesterday_town_hall_members_year",
          "year_day_work_men_dim",
          "yesterday_hall_members_year_day",
          "yesterday_hall_members_year_day",
          "yesterday_town_hall_members_year"
         ],
         "marker": {
          "color": "black"
         },
         "mode": "markers",
         "showlegend": false,
         "type": "scatter",
         "x": [
          0.5748145687951174,
          0.8008261764613614,
          0.8259330443230478,
          0.7220626589421661,
          0.867009005186988,
          0.8577705814724005,
          0.9354975109460001,
          0.9544190889705322,
          0.9963657090210876
         ],
         "y": [
          -60,
          -50,
          -35,
          -100,
          -103.75,
          -160,
          -163.75,
          -146.875,
          -118.125
         ]
        }
       ],
       "layout": {
        "autosize": false,
        "height": 470,
        "hoverlabel": {
         "bgcolor": "white",
         "font": {
          "family": "Rockwell",
          "size": 16
         }
        },
        "hovermode": "closest",
        "plot_bgcolor": "#ECEFF1",
        "showlegend": false,
        "template": {
         "data": {
          "bar": [
           {
            "error_x": {
             "color": "#2a3f5f"
            },
            "error_y": {
             "color": "#2a3f5f"
            },
            "marker": {
             "line": {
              "color": "white",
              "width": 0.5
             },
             "pattern": {
              "fillmode": "overlay",
              "size": 10,
              "solidity": 0.2
             }
            },
            "type": "bar"
           }
          ],
          "barpolar": [
           {
            "marker": {
             "line": {
              "color": "white",
              "width": 0.5
             },
             "pattern": {
              "fillmode": "overlay",
              "size": 10,
              "solidity": 0.2
             }
            },
            "type": "barpolar"
           }
          ],
          "carpet": [
           {
            "aaxis": {
             "endlinecolor": "#2a3f5f",
             "gridcolor": "#C8D4E3",
             "linecolor": "#C8D4E3",
             "minorgridcolor": "#C8D4E3",
             "startlinecolor": "#2a3f5f"
            },
            "baxis": {
             "endlinecolor": "#2a3f5f",
             "gridcolor": "#C8D4E3",
             "linecolor": "#C8D4E3",
             "minorgridcolor": "#C8D4E3",
             "startlinecolor": "#2a3f5f"
            },
            "type": "carpet"
           }
          ],
          "choropleth": [
           {
            "colorbar": {
             "outlinewidth": 0,
             "ticks": ""
            },
            "type": "choropleth"
           }
          ],
          "contour": [
           {
            "colorbar": {
             "outlinewidth": 0,
             "ticks": ""
            },
            "colorscale": [
             [
              0,
              "#0d0887"
             ],
             [
              0.1111111111111111,
              "#46039f"
             ],
             [
              0.2222222222222222,
              "#7201a8"
             ],
             [
              0.3333333333333333,
              "#9c179e"
             ],
             [
              0.4444444444444444,
              "#bd3786"
             ],
             [
              0.5555555555555556,
              "#d8576b"
             ],
             [
              0.6666666666666666,
              "#ed7953"
             ],
             [
              0.7777777777777778,
              "#fb9f3a"
             ],
             [
              0.8888888888888888,
              "#fdca26"
             ],
             [
              1,
              "#f0f921"
             ]
            ],
            "type": "contour"
           }
          ],
          "contourcarpet": [
           {
            "colorbar": {
             "outlinewidth": 0,
             "ticks": ""
            },
            "type": "contourcarpet"
           }
          ],
          "heatmap": [
           {
            "colorbar": {
             "outlinewidth": 0,
             "ticks": ""
            },
            "colorscale": [
             [
              0,
              "#0d0887"
             ],
             [
              0.1111111111111111,
              "#46039f"
             ],
             [
              0.2222222222222222,
              "#7201a8"
             ],
             [
              0.3333333333333333,
              "#9c179e"
             ],
             [
              0.4444444444444444,
              "#bd3786"
             ],
             [
              0.5555555555555556,
              "#d8576b"
             ],
             [
              0.6666666666666666,
              "#ed7953"
             ],
             [
              0.7777777777777778,
              "#fb9f3a"
             ],
             [
              0.8888888888888888,
              "#fdca26"
             ],
             [
              1,
              "#f0f921"
             ]
            ],
            "type": "heatmap"
           }
          ],
          "heatmapgl": [
           {
            "colorbar": {
             "outlinewidth": 0,
             "ticks": ""
            },
            "colorscale": [
             [
              0,
              "#0d0887"
             ],
             [
              0.1111111111111111,
              "#46039f"
             ],
             [
              0.2222222222222222,
              "#7201a8"
             ],
             [
              0.3333333333333333,
              "#9c179e"
             ],
             [
              0.4444444444444444,
              "#bd3786"
             ],
             [
              0.5555555555555556,
              "#d8576b"
             ],
             [
              0.6666666666666666,
              "#ed7953"
             ],
             [
              0.7777777777777778,
              "#fb9f3a"
             ],
             [
              0.8888888888888888,
              "#fdca26"
             ],
             [
              1,
              "#f0f921"
             ]
            ],
            "type": "heatmapgl"
           }
          ],
          "histogram": [
           {
            "marker": {
             "pattern": {
              "fillmode": "overlay",
              "size": 10,
              "solidity": 0.2
             }
            },
            "type": "histogram"
           }
          ],
          "histogram2d": [
           {
            "colorbar": {
             "outlinewidth": 0,
             "ticks": ""
            },
            "colorscale": [
             [
              0,
              "#0d0887"
             ],
             [
              0.1111111111111111,
              "#46039f"
             ],
             [
              0.2222222222222222,
              "#7201a8"
             ],
             [
              0.3333333333333333,
              "#9c179e"
             ],
             [
              0.4444444444444444,
              "#bd3786"
             ],
             [
              0.5555555555555556,
              "#d8576b"
             ],
             [
              0.6666666666666666,
              "#ed7953"
             ],
             [
              0.7777777777777778,
              "#fb9f3a"
             ],
             [
              0.8888888888888888,
              "#fdca26"
             ],
             [
              1,
              "#f0f921"
             ]
            ],
            "type": "histogram2d"
           }
          ],
          "histogram2dcontour": [
           {
            "colorbar": {
             "outlinewidth": 0,
             "ticks": ""
            },
            "colorscale": [
             [
              0,
              "#0d0887"
             ],
             [
              0.1111111111111111,
              "#46039f"
             ],
             [
              0.2222222222222222,
              "#7201a8"
             ],
             [
              0.3333333333333333,
              "#9c179e"
             ],
             [
              0.4444444444444444,
              "#bd3786"
             ],
             [
              0.5555555555555556,
              "#d8576b"
             ],
             [
              0.6666666666666666,
              "#ed7953"
             ],
             [
              0.7777777777777778,
              "#fb9f3a"
             ],
             [
              0.8888888888888888,
              "#fdca26"
             ],
             [
              1,
              "#f0f921"
             ]
            ],
            "type": "histogram2dcontour"
           }
          ],
          "mesh3d": [
           {
            "colorbar": {
             "outlinewidth": 0,
             "ticks": ""
            },
            "type": "mesh3d"
           }
          ],
          "parcoords": [
           {
            "line": {
             "colorbar": {
              "outlinewidth": 0,
              "ticks": ""
             }
            },
            "type": "parcoords"
           }
          ],
          "pie": [
           {
            "automargin": true,
            "type": "pie"
           }
          ],
          "scatter": [
           {
            "fillpattern": {
             "fillmode": "overlay",
             "size": 10,
             "solidity": 0.2
            },
            "type": "scatter"
           }
          ],
          "scatter3d": [
           {
            "line": {
             "colorbar": {
              "outlinewidth": 0,
              "ticks": ""
             }
            },
            "marker": {
             "colorbar": {
              "outlinewidth": 0,
              "ticks": ""
             }
            },
            "type": "scatter3d"
           }
          ],
          "scattercarpet": [
           {
            "marker": {
             "colorbar": {
              "outlinewidth": 0,
              "ticks": ""
             }
            },
            "type": "scattercarpet"
           }
          ],
          "scattergeo": [
           {
            "marker": {
             "colorbar": {
              "outlinewidth": 0,
              "ticks": ""
             }
            },
            "type": "scattergeo"
           }
          ],
          "scattergl": [
           {
            "marker": {
             "colorbar": {
              "outlinewidth": 0,
              "ticks": ""
             }
            },
            "type": "scattergl"
           }
          ],
          "scattermapbox": [
           {
            "marker": {
             "colorbar": {
              "outlinewidth": 0,
              "ticks": ""
             }
            },
            "type": "scattermapbox"
           }
          ],
          "scatterpolar": [
           {
            "marker": {
             "colorbar": {
              "outlinewidth": 0,
              "ticks": ""
             }
            },
            "type": "scatterpolar"
           }
          ],
          "scatterpolargl": [
           {
            "marker": {
             "colorbar": {
              "outlinewidth": 0,
              "ticks": ""
             }
            },
            "type": "scatterpolargl"
           }
          ],
          "scatterternary": [
           {
            "marker": {
             "colorbar": {
              "outlinewidth": 0,
              "ticks": ""
             }
            },
            "type": "scatterternary"
           }
          ],
          "surface": [
           {
            "colorbar": {
             "outlinewidth": 0,
             "ticks": ""
            },
            "colorscale": [
             [
              0,
              "#0d0887"
             ],
             [
              0.1111111111111111,
              "#46039f"
             ],
             [
              0.2222222222222222,
              "#7201a8"
             ],
             [
              0.3333333333333333,
              "#9c179e"
             ],
             [
              0.4444444444444444,
              "#bd3786"
             ],
             [
              0.5555555555555556,
              "#d8576b"
             ],
             [
              0.6666666666666666,
              "#ed7953"
             ],
             [
              0.7777777777777778,
              "#fb9f3a"
             ],
             [
              0.8888888888888888,
              "#fdca26"
             ],
             [
              1,
              "#f0f921"
             ]
            ],
            "type": "surface"
           }
          ],
          "table": [
           {
            "cells": {
             "fill": {
              "color": "#EBF0F8"
             },
             "line": {
              "color": "white"
             }
            },
            "header": {
             "fill": {
              "color": "#C8D4E3"
             },
             "line": {
              "color": "white"
             }
            },
            "type": "table"
           }
          ]
         },
         "layout": {
          "annotationdefaults": {
           "arrowcolor": "#2a3f5f",
           "arrowhead": 0,
           "arrowwidth": 1
          },
          "autotypenumbers": "strict",
          "coloraxis": {
           "colorbar": {
            "outlinewidth": 0,
            "ticks": ""
           }
          },
          "colorscale": {
           "diverging": [
            [
             0,
             "#8e0152"
            ],
            [
             0.1,
             "#c51b7d"
            ],
            [
             0.2,
             "#de77ae"
            ],
            [
             0.3,
             "#f1b6da"
            ],
            [
             0.4,
             "#fde0ef"
            ],
            [
             0.5,
             "#f7f7f7"
            ],
            [
             0.6,
             "#e6f5d0"
            ],
            [
             0.7,
             "#b8e186"
            ],
            [
             0.8,
             "#7fbc41"
            ],
            [
             0.9,
             "#4d9221"
            ],
            [
             1,
             "#276419"
            ]
           ],
           "sequential": [
            [
             0,
             "#0d0887"
            ],
            [
             0.1111111111111111,
             "#46039f"
            ],
            [
             0.2222222222222222,
             "#7201a8"
            ],
            [
             0.3333333333333333,
             "#9c179e"
            ],
            [
             0.4444444444444444,
             "#bd3786"
            ],
            [
             0.5555555555555556,
             "#d8576b"
            ],
            [
             0.6666666666666666,
             "#ed7953"
            ],
            [
             0.7777777777777778,
             "#fb9f3a"
            ],
            [
             0.8888888888888888,
             "#fdca26"
            ],
            [
             1,
             "#f0f921"
            ]
           ],
           "sequentialminus": [
            [
             0,
             "#0d0887"
            ],
            [
             0.1111111111111111,
             "#46039f"
            ],
            [
             0.2222222222222222,
             "#7201a8"
            ],
            [
             0.3333333333333333,
             "#9c179e"
            ],
            [
             0.4444444444444444,
             "#bd3786"
            ],
            [
             0.5555555555555556,
             "#d8576b"
            ],
            [
             0.6666666666666666,
             "#ed7953"
            ],
            [
             0.7777777777777778,
             "#fb9f3a"
            ],
            [
             0.8888888888888888,
             "#fdca26"
            ],
            [
             1,
             "#f0f921"
            ]
           ]
          },
          "colorway": [
           "#636efa",
           "#EF553B",
           "#00cc96",
           "#ab63fa",
           "#FFA15A",
           "#19d3f3",
           "#FF6692",
           "#B6E880",
           "#FF97FF",
           "#FECB52"
          ],
          "font": {
           "color": "#2a3f5f"
          },
          "geo": {
           "bgcolor": "white",
           "lakecolor": "white",
           "landcolor": "white",
           "showlakes": true,
           "showland": true,
           "subunitcolor": "#C8D4E3"
          },
          "hoverlabel": {
           "align": "left"
          },
          "hovermode": "closest",
          "mapbox": {
           "style": "light"
          },
          "paper_bgcolor": "white",
          "plot_bgcolor": "white",
          "polar": {
           "angularaxis": {
            "gridcolor": "#EBF0F8",
            "linecolor": "#EBF0F8",
            "ticks": ""
           },
           "bgcolor": "white",
           "radialaxis": {
            "gridcolor": "#EBF0F8",
            "linecolor": "#EBF0F8",
            "ticks": ""
           }
          },
          "scene": {
           "xaxis": {
            "backgroundcolor": "white",
            "gridcolor": "#DFE8F3",
            "gridwidth": 2,
            "linecolor": "#EBF0F8",
            "showbackground": true,
            "ticks": "",
            "zerolinecolor": "#EBF0F8"
           },
           "yaxis": {
            "backgroundcolor": "white",
            "gridcolor": "#DFE8F3",
            "gridwidth": 2,
            "linecolor": "#EBF0F8",
            "showbackground": true,
            "ticks": "",
            "zerolinecolor": "#EBF0F8"
           },
           "zaxis": {
            "backgroundcolor": "white",
            "gridcolor": "#DFE8F3",
            "gridwidth": 2,
            "linecolor": "#EBF0F8",
            "showbackground": true,
            "ticks": "",
            "zerolinecolor": "#EBF0F8"
           }
          },
          "shapedefaults": {
           "line": {
            "color": "#2a3f5f"
           }
          },
          "ternary": {
           "aaxis": {
            "gridcolor": "#DFE8F3",
            "linecolor": "#A2B1C6",
            "ticks": ""
           },
           "baxis": {
            "gridcolor": "#DFE8F3",
            "linecolor": "#A2B1C6",
            "ticks": ""
           },
           "bgcolor": "white",
           "caxis": {
            "gridcolor": "#DFE8F3",
            "linecolor": "#A2B1C6",
            "ticks": ""
           }
          },
          "title": {
           "x": 0.05
          },
          "xaxis": {
           "automargin": true,
           "gridcolor": "#EBF0F8",
           "linecolor": "#EBF0F8",
           "ticks": "",
           "title": {
            "standoff": 15
           },
           "zerolinecolor": "#EBF0F8",
           "zerolinewidth": 2
          },
          "yaxis": {
           "automargin": true,
           "gridcolor": "#EBF0F8",
           "linecolor": "#EBF0F8",
           "ticks": "",
           "title": {
            "standoff": 15
           },
           "zerolinecolor": "#EBF0F8",
           "zerolinewidth": 2
          }
         }
        },
        "title": {
         "font": {
          "color": "Black",
          "size": 22
         },
         "text": "<b>Hierarchical Clustering</b>",
         "x": 0.5,
         "xanchor": "center",
         "yanchor": "top"
        },
        "width": 1000,
        "xaxis": {
         "mirror": "allticks",
         "rangemode": "tozero",
         "showgrid": false,
         "showline": true,
         "showticklabels": true,
         "ticks": "outside",
         "type": "linear",
         "zeroline": false
        },
        "yaxis": {
         "mirror": "allticks",
         "range": [
          -180,
          0
         ],
         "rangemode": "tozero",
         "showgrid": false,
         "showline": true,
         "showticklabels": true,
         "tickmode": "array",
         "ticks": "outside",
         "ticktext": [
          "8_frozen_foods_market",
          "17_tickets_licensed_wine",
          "10_fish_takeaway_chips",
          "6_fat_foods_alcohol",
          "3_water_salt_oil",
          "2_restaurant_dishes_sauce",
          "9_middle_crushed_tahina",
          "14_dim_sims_sim",
          "11_know_answers_snake",
          "0_yesterday_town_hall",
          "13_war_communists_communism",
          "16_tho_coffin_masonic",
          "15_autumn_party_club",
          "7_trinder_cocktails_farewell",
          "4_bitch_dog_puppy",
          "1_start_2nd_second",
          "12_music_news_session",
          "5_theatre_troupe_delightful"
         ],
         "tickvals": [
          -5,
          -15,
          -25,
          -35,
          -45,
          -55,
          -65,
          -75,
          -85,
          -95,
          -105,
          -115,
          -125,
          -135,
          -145,
          -155,
          -165,
          -175
         ],
         "type": "linear",
         "zeroline": false
        }
       }
      }
     },
     "metadata": {},
     "output_type": "display_data"
    }
   ],
   "source": [
    "topic_model.visualize_hierarchy(hierarchical_topics=hierarchical_topics)"
   ]
  },
  {
   "cell_type": "code",
   "execution_count": 33,
   "metadata": {},
   "outputs": [],
   "source": [
    "def create_list_from_topics(row):\n",
    "    # First layer\n",
    "    if row['Topic'] in [2,3,6,8,9,10,17]:\n",
    "        first_element = 'Food'  \n",
    "    else:\n",
    "        first_element = 'Non-Food'\n",
    "    \n",
    "    # Second element condition using match\n",
    "    match row['Topic']:\n",
    "        # food\n",
    "        case 3:\n",
    "            second_element = 'Recipe'\n",
    "        case 2:\n",
    "            second_element = 'Restaurant Review'\n",
    "        case 6:\n",
    "            second_element = 'Health & Diet'\n",
    "        case 8:\n",
    "            second_element = 'Food Product Trade'\n",
    "        case 9:\n",
    "            second_element = 'Middle Eastern Food'\n",
    "        case 10:\n",
    "            second_element = 'Fish & Chips'\n",
    "        case 17:\n",
    "            second_element = 'Food Guide'\n",
    "        # non-food\n",
    "\n",
    "        case 0|16:\n",
    "            second_element = 'Community Events'\n",
    "        case 1:\n",
    "            second_element = 'Horse Race'\n",
    "        case 4:\n",
    "            second_element = 'Dog Show'\n",
    "        case 5:\n",
    "            second_element = 'Theatre & Entertainment'\n",
    "        case 7|15:\n",
    "            second_element = 'Social Events'\n",
    "        case 11:\n",
    "            second_element = 'Quiz'\n",
    "        case 12:\n",
    "            second_element = 'Programme Schedule'\n",
    "        case 13:\n",
    "            second_element = 'Government & Politics'\n",
    "        case 14:\n",
    "            second_element = 'Local News'       \n",
    "        case _:\n",
    "            second_element = 'Other'\n",
    "    \n",
    "    # Combine elements, filtering out None\n",
    "    result = [first_element] + ([second_element] if second_element is not None else [])\n",
    "    \n",
    "    return result"
   ]
  },
  {
   "cell_type": "code",
   "execution_count": 34,
   "metadata": {},
   "outputs": [],
   "source": [
    "def create_cat_corpus_knowledge(row):\n",
    "   if row['Topic'] == 16:\n",
    "      if re.search(r'\\bmason\\w*', row['Document'], re.IGNORECASE):\n",
    "         row['categories'] += ['Funeral for Chinese Mason']\n",
    "      elif re.search(r'\\byoungster\\w*', row['Document'], re.IGNORECASE):\n",
    "         row['categories'] += ['McKenzie\\'s Chinese Dinner for Youngsters']\n",
    "      else:\n",
    "         row['categories'] += ['Other']\n",
    "   \n",
    "   if row['Topic'] == 0:\n",
    "      if re.search(r'\\b\\w*war nurse\\w*', row['Document'], re.IGNORECASE) or re.search(r'\\b\\w*dim sim do\\w*', row['Document'], re.IGNORECASE):\n",
    "         row['categories'] += ['\\\"Dim Sim Do\\\" Fundraising for War Nurses']\n",
    "      else:\n",
    "         row['categories'] += ['Other']\n",
    "\n",
    "         \n",
    "         \n",
    "   \n",
    "   return row['categories']"
   ]
  },
  {
   "cell_type": "code",
   "execution_count": 35,
   "metadata": {},
   "outputs": [],
   "source": [
    "doc_label_df['categories'] = doc_label_df.apply(create_list_from_topics, axis=1)\n",
    "doc_label_df['categories'] = doc_label_df.apply(create_cat_corpus_knowledge, axis=1)"
   ]
  },
  {
   "cell_type": "code",
   "execution_count": 36,
   "metadata": {},
   "outputs": [],
   "source": [
    "# opt1 = ['Non-Food', 'Theatre & Entertainment', 'Other']\n",
    "# id = 100\n",
    "# doc_label_df.at[id, 'categories'] = opt1\n",
    "# print(doc_label_df.iloc[[id]])"
   ]
  },
  {
   "cell_type": "code",
   "execution_count": 37,
   "metadata": {},
   "outputs": [
    {
     "name": "stdout",
     "output_type": "stream",
     "text": [
      "                                           categories  count\n",
      "0                                   (Non-Food, Other)    204\n",
      "1                 (Non-Food, Community Events, Other)    139\n",
      "2                              (Non-Food, Horse Race)     87\n",
      "3                           (Food, Restaurant Review)     82\n",
      "4                                      (Food, Recipe)     33\n",
      "5                           (Non-Food, Social Events)     26\n",
      "6                                (Non-Food, Dog Show)     22\n",
      "7   (Non-Food, Community Events, \"Dim Sim Do\" Fund...     22\n",
      "8                 (Non-Food, Theatre & Entertainment)     21\n",
      "9                               (Food, Health & Diet)     17\n",
      "10                        (Food, Middle Eastern Food)     13\n",
      "11                               (Food, Fish & Chips)     13\n",
      "12                         (Food, Food Product Trade)     13\n",
      "13                                   (Non-Food, Quiz)     13\n",
      "14                     (Non-Food, Programme Schedule)     13\n",
      "15                  (Non-Food, Government & Politics)     11\n",
      "16                             (Non-Food, Local News)     11\n",
      "17                                 (Food, Food Guide)      8\n",
      "18  (Non-Food, Community Events, McKenzie's Chines...      3\n",
      "19  (Non-Food, Community Events, Funeral for Chine...      3\n"
     ]
    }
   ],
   "source": [
    "doc_label_df['category_path'] = doc_label_df['categories'].apply(tuple)\n",
    "\n",
    "# Count unique paths\n",
    "path_counts = doc_label_df['category_path'].value_counts().reset_index()\n",
    "path_counts.columns = ['categories', 'count']\n",
    "print(path_counts)"
   ]
  },
  {
   "cell_type": "code",
   "execution_count": 38,
   "metadata": {},
   "outputs": [
    {
     "ename": "SyntaxError",
     "evalue": "'[' was never closed (1048984495.py, line 14)",
     "output_type": "error",
     "traceback": [
      "\u001b[0;36m  Cell \u001b[0;32mIn[38], line 14\u001b[0;36m\u001b[0m\n\u001b[0;31m    def build_json_structure(tree, color_index=0, colors=[\"#fbc987\", \"\"#e74c3c, \"#2ecc71\", \"#f1c40f\", \"#9b59b6\", \"#34495e\", \"#1abc9c\"]):\u001b[0m\n\u001b[0m                                                         ^\u001b[0m\n\u001b[0;31mSyntaxError\u001b[0m\u001b[0;31m:\u001b[0m '[' was never closed\n"
     ]
    }
   ],
   "source": [
    "def parse_categories(category_counts):\n",
    "    tree = {}\n",
    "    for _, row in category_counts.iterrows():\n",
    "        current_level = tree\n",
    "        path = row['categories']\n",
    "        count = row['count']\n",
    "        for i, part in enumerate(path):\n",
    "            if part not in current_level:\n",
    "                current_level[part] = {} if i < len(path) - 1 else {'_count': count}\n",
    "            current_level = current_level[part]\n",
    "    return tree\n",
    "\n",
    "# Function to convert nested dictionary to the required JSON structure\n",
    "def build_json_structure(tree, color_index=0, colors=[\"#fbc987\", \"#fada85\",\"#fab285\",]):\n",
    "    result = []\n",
    "    for name, sub_tree in tree.items():\n",
    "        if '_count' in sub_tree:\n",
    "            # This is a leaf node, prepare the item with count\n",
    "            item = {\n",
    "                \"name\": name,\n",
    "                \"itemStyle\": {\"color\": colors[color_index % len(colors)]},\n",
    "                \"value\": sub_tree['_count']\n",
    "            }\n",
    "        else:\n",
    "            # Non-leaf node, recurse\n",
    "            item = {\n",
    "                \"name\": name,\n",
    "                \"itemStyle\": {\"color\": colors[color_index % len(colors)]},\n",
    "                \"children\": build_json_structure(sub_tree, color_index + 1)\n",
    "            }\n",
    "        result.append(item)\n",
    "    return result\n",
    "\n",
    "# Parse the category paths into a hierarchical dictionary\n",
    "category_tree = parse_categories(path_counts)\n",
    "\n",
    "# Convert the hierarchical dictionary to JSON structure\n",
    "json_structure = build_json_structure(category_tree)\n",
    "json_output = json.dumps(json_structure, indent=4)\n",
    "\n",
    "# Print and save the output\n",
    "print(json_output)\n",
    "with open('structured_web_data_input.json', 'w') as f:\n",
    "    f.write(json_output)"
   ]
  },
  {
   "cell_type": "code",
   "execution_count": 43,
   "metadata": {},
   "outputs": [],
   "source": [
    "#doc_label_df.set_index('id', inplace=True)\n",
    "\n",
    "data_json = doc_label_df[['categories','title','abstrct','date','authors','year', 'articleType', 'newspaper','thumbnailUrl']].to_json(orient='index')\n",
    "with open('keyed_article_data.json', 'w') as file:\n",
    "    json.dump(json.loads(data_json), file)"
   ]
  },
  {
   "cell_type": "code",
   "execution_count": 47,
   "metadata": {},
   "outputs": [
    {
     "name": "stdout",
     "output_type": "stream",
     "text": [
      "{\"Food, Fish & Chips\":[254798369,254800021,201151665,120918161,190893279,267029509,267178808,196615330,196436190,196679969,249097984,196859078,140063550],\"Food, Food Guide\":[230403895,125630906,118106641,136294370,101967300,101982907,120857042,249094255],\"Food, Food Product Trade\":[217935714,74062147,267752217,60677801,142742249,137930515,267433093,72535102,131766056,51776971,106990537,110758876,267168944],\"Food, Health & Diet\":[231112898,69171835,225978325,71653984,44560491,263210773,255521652,140143302,254380359,255437456,259493441,267388332,267224038,230222376,259369483,267336881,267390139],\"Food, Middle Eastern Food\":[262706253,262518397,262528101,262743342,261327215,261329485,261453178,261456607,262131521,261658830,261559476,261460733,261547975],\"Food, Recipe\":[223810567,12238963,255428942,223896004,206136719,12450548,12117738,12145996,22555258,190783899,69106341,63052990,171265236,224930968,167976895,201355468,260547216,27188316,100183360,131252677,46448354,224553594,266345861,71648703,44023735,51975358,47250095,107087646,110350114,250870456,46442256,52620133,118144648],\"Food, Restaurant Review\":[11716453,177598643,234595654,151360498,271124371,271123884,156078568,138908945,97799392,231584003,157702207,272735050,272734583,272735545,272734549,272735240,272734977,248406971,247303589,146661073,224949971,229225443,49001787,98356104,269554630,110700196,270588434,134399438,250160489,262528204,262532028,262532187,262535373,262755157,262543550,126165530,262551324,262754360,271834200,261325511,116448354,261335256,261339163,116410838,261330939,261451643,262126100,127213799,262128072,262132171,122534826,128254817,261562696,261563626,261564516,127540955,261565586,261566032,261569266,118126164,118130806,261636266,131836759,131840502,130631141,119478332,118116755,261459256,261463076,118300051,122109312,120906654,122327836,122333412,122374779,122407397,126932344,126968684,127231356,130549308,261620105,261457903],\"Non-Food, Community Events, \\\"Dim Sim Do\\\" Fundraising for War Nurses\":[205156371,244979706,205160191,8153125,8168948,224822634,8162345,244988214,8168801,205152731,8161436,8188629,244990276,205152875,224819456,206817948,206819086,245193374,206817755,194065549,225564781,255547348],\"Non-Food, Community Events, Funeral for Chinese Mason\":[179237541,175704309,245082918],\"Non-Food, Community Events, McKenzie's Chinese Dinner for Youngsters\":[129274523,84992274,179546723],\"Non-Food, Community Events, Other\":[155809269,131634347,142421706,169338008,244656041,205925324,229139826,225576223,205635278,243465828,11239539,266070310,247814077,236338493,204412566,243237372,243231845,70694709,140428275,205304668,248135799,248137383,271102663,131409580,248133576,185788172,245109903,267749506,247997984,206349760,247865135,246013415,247659610,169362016,248010032,1107465,146482920,249173994,208694282,47722160,248018595,42474680,141806178,50274764,228796006,174991047,248490078,42485937,245527402,188726777,188726778,248406683,169370315,140315278,206038957,26428537,26429061,127023089,171262052,42574149,273375016,273375354,27764944,18092746,205359888,22708250,205360498,274035246,274035132,274034339,274035699,274035190,248246607,18157909,274135203,274135007,274134986,274135044,274135256,274135279,274314273,274313018,274313796,274312675,274313956,50040794,18175861,145571260,275363118,23157501,138554055,50309849,245278909,178183048,49483173,264217585,230217109,249247989,266112071,206461993,225655772,50581727,248868259,205380725,142733355,28664092,23428313,248914738,217221228,205396307,210669081,212477053,71667525,71698219,91210282,71767376,190734734,133925237,267322172,250253554,269882488,140093389,236922840,262705592,131801471,110730196,110731967,230419267,250279754,250070753,116444202,264917125,118305420,102038152,120885806,122350550,122368554,126958299,267085120],\"Non-Food, Dog Show\":[73522903,229205749,17057155,235362094,11175536,224936450,144371029,205624450,12135829,142152587,49907063,187682772,117104087,217175007,217175143,98275177,118428203,202684768,201195526,118240896,118252309,118256173],\"Non-Food, Government & Politics\":[245611582,247882702,229997509,172501871,116872984,201350315,168007629,23436354,47595753,48546613,127282642],\"Non-Food, Horse Race\":[254977809,254978889,145360632,254985439,254995780,254996566,17630994,239350589,254999637,255001237,239349570,255003093,255002897,236661432,255005232,254813437,236652698,255112687,255112985,167848815,202683291,136952363,110633735,110628825,110809530,110810471,110811532,110812045,110812716,110813849,110814121,110814710,110815257,131815456,131817966,131820361,131821764,131824249,110815649,110815650,110816165,131793313,131797343,131798134,131799622,131801388,131802345,131803815,131803816,110833518,110841038,110842284,110843628,110727051,110727052,110728029,110730051,110731326,110731422,110734903,110844004,110844065,110845910,110846603,110847524,110850158,110852813,110852792,110854400,131717068,110886389,110889632,110890555,110891804,110892623,110892910,110893004,110894413,131852314,131852824,131857786,131859746,110897316,122484069,118175833,118177651,118180921],\"Non-Food, Local News\":[248894456,228995696,169383469,22693860,248774946,230723937,212472273,130981256,26605033,23456078,58101756],\"Non-Food, Other\":[198674229,4015754,224264292,231430886,97699367,182635123,182609714,243165023,243104309,235494126,36206599,92336252,205445639,11939426,266097164,244541283,244530882,178493403,234540831,231031614,243150962,247444353,12115388,243367858,40822046,231213628,255000235,17627609,17630345,247812448,231214250,17642706,51593593,11295658,236660264,243231761,12475263,151350776,204397716,244994888,8169285,186648078,98262621,142429254,8186660,130464744,234602339,131523648,224828359,245105030,142416616,142416861,235758446,231706315,1097356,248006104,230463140,245661261,22243278,245545632,231586930,178124946,178124876,264999369,228983096,234633254,76027698,76027694,140319693,46945049,248182765,248185314,203230648,22553228,22678709,156396570,156395387,156398754,27764943,234626396,265134669,42609593,220427641,248257128,229770702,230936885,246030263,229227363,271334580,187185940,235984101,18479105,230076523,230169433,206396222,69300484,117256433,190480587,63095748,98331608,248571723,230872865,129915922,55784175,230764710,246265995,134015422,248990371,229731723,271325472,164007334,164001781,23184764,245295158,42755579,231000073,85672027,23220300,202681659,51098962,249254245,39358070,57832939,245035895,161628210,267421001,245147201,201192320,220822926,229412347,261050011,205382865,266157957,266150611,23429051,248914864,39369230,71689529,267838959,71801463,84389807,55473510,267321758,267321309,267325433,47250565,271264435,263022515,266996136,110725407,110635457,251045088,250531508,110650145,267441798,131823150,110829330,55480322,110731711,131859637,110896824,110574879,259977785,127068284,259979482,249744548,262746870,249744487,249744518,126863972,250070896,126881269,250070717,250070817,250070806,48081418,116472288,230405771,261326938,116423325,261330959,261331022,262128955,261647083,122471037,261650465,134421904,228651341,258995250,196607879,230431400,127245918,261921436,127516340,230433036,230434895,267106508,230436486,249106615,267333682,257168613,267337388,259478403,267226409],\"Non-Food, Programme Schedule\":[23339784,193145975,230314080,166299310,58855697,128409997,17124803,224395432,230725329,48269001,122332791,255512677,122333925],\"Non-Food, Quiz\":[131884115,167356325,25606721,131886514,167372918,231236768,167524745,231464403,132009339,167461151,84384397,129095490,255486232],\"Non-Food, Social Events\":[169765093,76024072,272775059,272775159,272866402,272866801,272774968,272866104,272866636,272866385,273789937,273789142,273789317,273789870,273789993,273789238,273789191,274165704,274167056,274165842,274166629,229612014,219304306,248662534,249056103,71646868],\"Non-Food, Theatre & Entertainment\":[182359378,182359857,21319297,21319695,182353311,182353054,182350314,182350648,21320217,21320345,182351170,182351489,186497248,182346424,182346041,21321051,100131584,21321228,128505901,181337550,181337524]}\n"
     ]
    }
   ],
   "source": [
    "doc_label_df.reset_index(inplace=True)\n",
    "\n",
    "doc_label_df['categories_string'] = doc_label_df['categories'].apply(lambda x: ', '.join(x) if isinstance(x, list) else x)\n",
    "\n",
    "grouped = doc_label_df.groupby('categories_string')['id'].apply(list)\n",
    "\n",
    "# Convert the grouped data to a JSON string\n",
    "categories_json = grouped.to_json()\n",
    "print(categories_json)"
   ]
  },
  {
   "cell_type": "code",
   "execution_count": 11,
   "metadata": {},
   "outputs": [],
   "source": [
    "data_json = json.loads(data_json)"
   ]
  },
  {
   "cell_type": "code",
   "execution_count": 12,
   "metadata": {},
   "outputs": [
    {
     "name": "stdout",
     "output_type": "stream",
     "text": [
      "[\n",
      "    {\n",
      "        \"name\": \"Non-Food\",\n",
      "        \"children\": [\n",
      "            {\n",
      "                \"name\": \"Community Events\",\n",
      "                \"children\": [\n",
      "                    {\n",
      "                        \"name\": \"Other\",\n",
      "                        \"children\": [],\n",
      "                        \"value\": 1\n",
      "                    },\n",
      "                    {\n",
      "                        \"name\": \"Funeral for Chinese Mason\",\n",
      "                        \"children\": [],\n",
      "                        \"value\": 1\n",
      "                    },\n",
      "                    {\n",
      "                        \"name\": \"McKenzie's Chinese Dinner for Youngsters\",\n",
      "                        \"children\": [],\n",
      "                        \"value\": 1\n",
      "                    },\n",
      "                    {\n",
      "                        \"name\": \"\\\"Dim Sim Do\\\" Fundraising for War Nurses\",\n",
      "                        \"children\": [],\n",
      "                        \"value\": 1\n",
      "                    }\n",
      "                ]\n",
      "            },\n",
      "            {\n",
      "                \"name\": \"Theatre & Entertainment\",\n",
      "                \"children\": [],\n",
      "                \"value\": 1\n",
      "            },\n",
      "            {\n",
      "                \"name\": \"Dog Show\",\n",
      "                \"children\": [],\n",
      "                \"value\": 1\n",
      "            },\n",
      "            {\n",
      "                \"name\": \"Programme Schedule\",\n",
      "                \"children\": [],\n",
      "                \"value\": 1\n",
      "            },\n",
      "            {\n",
      "                \"name\": \"Quiz\",\n",
      "                \"children\": [],\n",
      "                \"value\": 1\n",
      "            },\n",
      "            {\n",
      "                \"name\": \"Horse Race\",\n",
      "                \"children\": [],\n",
      "                \"value\": 1\n",
      "            },\n",
      "            {\n",
      "                \"name\": \"Social Events\",\n",
      "                \"children\": [],\n",
      "                \"value\": 1\n",
      "            },\n",
      "            {\n",
      "                \"name\": \"Government & Politics\",\n",
      "                \"children\": [],\n",
      "                \"value\": 1\n",
      "            },\n",
      "            {\n",
      "                \"name\": \"Local News\",\n",
      "                \"children\": [],\n",
      "                \"value\": 1\n",
      "            }\n",
      "        ]\n",
      "    },\n",
      "    {\n",
      "        \"name\": \"Food\",\n",
      "        \"children\": [\n",
      "            {\n",
      "                \"name\": \"Recipe\",\n",
      "                \"children\": [],\n",
      "                \"value\": 1\n",
      "            },\n",
      "            {\n",
      "                \"name\": \"Restaurant Review\",\n",
      "                \"children\": [],\n",
      "                \"value\": 1\n",
      "            },\n",
      "            {\n",
      "                \"name\": \"Health & Diet\",\n",
      "                \"children\": [],\n",
      "                \"value\": 1\n",
      "            },\n",
      "            {\n",
      "                \"name\": \"Food Product Trade\",\n",
      "                \"children\": [],\n",
      "                \"value\": 1\n",
      "            },\n",
      "            {\n",
      "                \"name\": \"Fish & Chips\",\n",
      "                \"children\": [],\n",
      "                \"value\": 1\n",
      "            },\n",
      "            {\n",
      "                \"name\": \"Middle Eastern Food\",\n",
      "                \"children\": [],\n",
      "                \"value\": 1\n",
      "            },\n",
      "            {\n",
      "                \"name\": \"Food Guide\",\n",
      "                \"children\": [],\n",
      "                \"value\": 1\n",
      "            }\n",
      "        ]\n",
      "    }\n",
      "]\n"
     ]
    }
   ],
   "source": [
    "def parse_categories(categories):\n",
    "    tree = {}\n",
    "    for path in categories:\n",
    "        current_level = tree\n",
    "        for part in path['categories']:\n",
    "            if part not in current_level:\n",
    "                current_level[part] = {}\n",
    "            current_level = current_level[part]\n",
    "    return tree\n",
    "\n",
    "# Function to convert nested dictionary to the required JSON structure\n",
    "def build_json_structure(tree, color_index=0, colors=[\"#3498db\", \"#e74c3c\", \"#2ecc71\", \"#f1c40f\", \"#9b59b6\", \"#34495e\", \"#1abc9c\"]):\n",
    "    result = []\n",
    "    for name, sub_tree in tree.items():\n",
    "        item = {\n",
    "            \"name\": name,\n",
    "            #\"itemStyle\": {\"color\": colors[color_index % len(colors)]},\n",
    "            \"children\": build_json_structure(sub_tree, color_index + 1) if sub_tree else []\n",
    "        }\n",
    "        # Check if node is a leaf (no children)\n",
    "        if not item[\"children\"]:\n",
    "            item[\"value\"] = 1  # Add 'value': 1 for leaf nodes\n",
    "        result.append(item)\n",
    "    return result\n",
    "\n",
    "# Parse the flat list into a hierarchical dictionary\n",
    "category_tree = parse_categories(data_json)\n",
    "\n",
    "# Convert the hierarchical dictionary to JSON structure\n",
    "json_structure = build_json_structure(category_tree)\n",
    "json_output = json.dumps(json_structure, indent=4)\n",
    "\n",
    "print(json_output)\n",
    "#Print and save the output\n",
    "with open('structured_web_data_input.json', 'w') as f:\n",
    "    f.write(json_output)"
   ]
  },
  {
   "cell_type": "code",
   "execution_count": null,
   "metadata": {},
   "outputs": [],
   "source": []
  }
 ],
 "metadata": {
  "kernelspec": {
   "display_name": "Python 3",
   "language": "python",
   "name": "python3"
  },
  "language_info": {
   "codemirror_mode": {
    "name": "ipython",
    "version": 3
   },
   "file_extension": ".py",
   "mimetype": "text/x-python",
   "name": "python",
   "nbconvert_exporter": "python",
   "pygments_lexer": "ipython3",
   "version": "3.11.4"
  }
 },
 "nbformat": 4,
 "nbformat_minor": 2
}
